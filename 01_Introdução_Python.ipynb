{
  "nbformat": 4,
  "nbformat_minor": 0,
  "metadata": {
    "colab": {
      "provenance": [],
      "include_colab_link": true
    },
    "kernelspec": {
      "name": "python3",
      "display_name": "Python 3"
    },
    "language_info": {
      "name": "python"
    }
  },
  "cells": [
    {
      "cell_type": "markdown",
      "metadata": {
        "id": "view-in-github",
        "colab_type": "text"
      },
      "source": [
        "<a href=\"https://colab.research.google.com/github/GuilhermeFogolin/Estudos-Dados-FECAP/blob/main/01_Introduc%CC%A7a%CC%83o_Python.ipynb\" target=\"_parent\"><img src=\"https://colab.research.google.com/assets/colab-badge.svg\" alt=\"Open In Colab\"/></a>"
      ]
    },
    {
      "cell_type": "markdown",
      "source": [
        "Introdução a função em Python"
      ],
      "metadata": {
        "id": "w7hD-95qfaKQ"
      }
    },
    {
      "cell_type": "code",
      "execution_count": 1,
      "metadata": {
        "id": "JM2IXs2ie-Cf",
        "colab": {
          "base_uri": "https://localhost:8080/"
        },
        "outputId": "0925c2fd-2e82-4d9d-c77a-c9252c8150d1"
      },
      "outputs": [
        {
          "output_type": "stream",
          "name": "stdout",
          "text": [
            "4\n",
            "10\n",
            "16\n",
            "****************\n",
            "**** 30 ****\n",
            "****************\n",
            "FIM!!\n"
          ]
        }
      ],
      "source": [
        "def imprimir(valor):\n",
        "  print(\"****************\")\n",
        "  print(\"****\",valor,\"****\")\n",
        "  print(\"****************\")\n",
        "  return\n",
        "\n",
        "def f(x):\n",
        "  result=2*x\n",
        "  return result\n",
        "\n",
        "print(f(2))\n",
        "a=5\n",
        "print(f(a))\n",
        "print(f(a+3))\n",
        "b=f(15)\n",
        "imprimir(b)\n",
        "print(\"FIM!!\")"
      ]
    },
    {
      "cell_type": "code",
      "source": [
        "def calcMedia(NI,PI,PO):\n",
        "  media=NI*0.20+PI*0.30+PO*0.50\n",
        "  return media\n",
        "\n",
        "NI=float(input(\"Entre com sua NI:\"))\n",
        "PI=float(input(\"Entre com sua PI:\"))\n",
        "PO=float(input(\"Entre com sua PO:\"))\n",
        "Media=calcMedia(NI,PI,PO)\n",
        "imprimir(Media)"
      ],
      "metadata": {
        "id": "QyamNwDXkSuw",
        "colab": {
          "base_uri": "https://localhost:8080/"
        },
        "outputId": "20cbd5c6-8d8b-44f1-e265-22fef80772dd"
      },
      "execution_count": 3,
      "outputs": [
        {
          "output_type": "stream",
          "name": "stdout",
          "text": [
            "Entre com sua NI:8\n",
            "Entre com sua PI:10\n",
            "Entre com sua PO:8\n",
            "****************\n",
            "**** 8.6 ****\n",
            "****************\n"
          ]
        }
      ]
    },
    {
      "cell_type": "code",
      "source": [
        "import numpy as np\n",
        "x=np.array([0,1,2,3,4])\n",
        "print(x)"
      ],
      "metadata": {
        "id": "fWLdFoEfnQpo",
        "colab": {
          "base_uri": "https://localhost:8080/"
        },
        "outputId": "d1c24e1e-d7b8-4693-d0cd-1d55f20956b7"
      },
      "execution_count": 4,
      "outputs": [
        {
          "output_type": "stream",
          "name": "stdout",
          "text": [
            "[0 1 2 3 4]\n"
          ]
        }
      ]
    },
    {
      "cell_type": "code",
      "source": [
        "print(\"Percorrendo uma lista NumPy de forma DIRETA\")\n",
        "\n",
        "for num in x:\n",
        "  print(num)"
      ],
      "metadata": {
        "id": "nONl789Cn2lJ",
        "colab": {
          "base_uri": "https://localhost:8080/"
        },
        "outputId": "b2179add-1726-4fd1-f98e-e661e343b2cd"
      },
      "execution_count": 5,
      "outputs": [
        {
          "output_type": "stream",
          "name": "stdout",
          "text": [
            "Percorrendo uma lista NumPy de forma DIRETA\n",
            "0\n",
            "1\n",
            "2\n",
            "3\n",
            "4\n"
          ]
        }
      ]
    },
    {
      "cell_type": "code",
      "source": [
        "print(\"Percorrendo uma lista NumPy de forma INDEXADA\")\n",
        "\n",
        "for indice in range(len(x)):\n",
        "  print(x[indice])"
      ],
      "metadata": {
        "id": "aPxioGDmoMja",
        "colab": {
          "base_uri": "https://localhost:8080/"
        },
        "outputId": "eea674d4-9a92-42d6-b776-0038a45e2a12"
      },
      "execution_count": 6,
      "outputs": [
        {
          "output_type": "stream",
          "name": "stdout",
          "text": [
            "Percorrendo uma lista NumPy de forma INDEXADA\n",
            "0\n",
            "1\n",
            "2\n",
            "3\n",
            "4\n"
          ]
        }
      ]
    },
    {
      "cell_type": "code",
      "source": [
        "print(\"Convertendo uma Lista Python em uma lista NumPy\")\n",
        "listaPython=[10,15,20,25,30,35,40,45,50]\n",
        "listaNP=np.array(listaPython)\n",
        "for n in listaNP:\n",
        "  print(n)"
      ],
      "metadata": {
        "id": "FUss6dRvpGab",
        "colab": {
          "base_uri": "https://localhost:8080/"
        },
        "outputId": "567ce779-bfb3-480f-83c1-3f2afc4ea65e"
      },
      "execution_count": 7,
      "outputs": [
        {
          "output_type": "stream",
          "name": "stdout",
          "text": [
            "Convertendo uma Lista Python em uma lista NumPy\n",
            "10\n",
            "15\n",
            "20\n",
            "25\n",
            "30\n",
            "35\n",
            "40\n",
            "45\n",
            "50\n"
          ]
        }
      ]
    },
    {
      "cell_type": "code",
      "source": [
        "from traitlets.config.loader import LazyConfigValue\n",
        "print(\"OPERAÇÃO COM MATRIZES\")\n",
        "lanches=[[\"N1\",\"HAMBURGUER\"],\n",
        "         [\"N2\",\"X-SALADA\"  ],\n",
        "         [\"N3\",\"X-BACON\"   ],\n",
        "         [\"N4\",\"X-TUDO\"    ]]\n",
        "#lanches=[\"HAMBURGUER\",\"X-SALADA\",\"X-BACON\",\"X-TUDO\"]\n",
        "print(lanches)\n",
        "for i in range(len(lanches)):\n",
        "  print(\"Indice\",i,\":\",lanches[i])\n",
        "  meuPrato=lanches[i]\n",
        "  print(\"Código do Prato\",meuPrato[0])\n",
        "\n",
        "print(lanches[2][1])"
      ],
      "metadata": {
        "id": "p9BHaQNCqPll",
        "colab": {
          "base_uri": "https://localhost:8080/"
        },
        "outputId": "e92b1ab2-5402-405e-a6ef-e91898a889c4"
      },
      "execution_count": 8,
      "outputs": [
        {
          "output_type": "stream",
          "name": "stdout",
          "text": [
            "OPERAÇÃO COM MATRIZES\n",
            "[['N1', 'HAMBURGUER'], ['N2', 'X-SALADA'], ['N3', 'X-BACON'], ['N4', 'X-TUDO']]\n",
            "Indice 0 : ['N1', 'HAMBURGUER']\n",
            "Código do Prato N1\n",
            "Indice 1 : ['N2', 'X-SALADA']\n",
            "Código do Prato N2\n",
            "Indice 2 : ['N3', 'X-BACON']\n",
            "Código do Prato N3\n",
            "Indice 3 : ['N4', 'X-TUDO']\n",
            "Código do Prato N4\n",
            "X-BACON\n"
          ]
        }
      ]
    },
    {
      "cell_type": "code",
      "source": [
        "a=np.array([[1.0, 2.0],[3.0, 4.0]])\n",
        "b=np.array([[5.0, 6.0],[7.0, 8.0]])\n",
        "print(a)\n",
        "print(b)\n",
        "soma=a+b\n",
        "diferenca=a-b\n",
        "produto=a*b\n",
        "quociente=a/b\n",
        "print(\"SOMA\",soma)\n",
        "print(\"DIF\",diferenca)\n",
        "print(\"PROD\",produto)\n",
        "print(\"DIV\",quociente)"
      ],
      "metadata": {
        "id": "vRqmAEw_vK-Q",
        "colab": {
          "base_uri": "https://localhost:8080/"
        },
        "outputId": "4ca224ae-e847-466d-8d93-c078e53acbe7"
      },
      "execution_count": 9,
      "outputs": [
        {
          "output_type": "stream",
          "name": "stdout",
          "text": [
            "[[1. 2.]\n",
            " [3. 4.]]\n",
            "[[5. 6.]\n",
            " [7. 8.]]\n",
            "SOMA [[ 6.  8.]\n",
            " [10. 12.]]\n",
            "DIF [[-4. -4.]\n",
            " [-4. -4.]]\n",
            "PROD [[ 5. 12.]\n",
            " [21. 32.]]\n",
            "DIV [[0.2        0.33333333]\n",
            " [0.42857143 0.5       ]]\n"
          ]
        }
      ]
    },
    {
      "cell_type": "code",
      "source": [
        "coef=np.array([[2,6],[5,3]])\n",
        "vardeps=np.array([6,-9])\n",
        "print(coef)\n",
        "print(vardeps)\n",
        "solucao=np.linalg.solve(coef,vardeps)\n",
        "print(solucao)\n",
        "print(\"X=\",solucao[0])\n",
        "print(\"Y=\",solucao[1])"
      ],
      "metadata": {
        "id": "mJieRdtByfl2",
        "colab": {
          "base_uri": "https://localhost:8080/"
        },
        "outputId": "60ce8129-0b4f-4ee7-c624-1653abfc3042"
      },
      "execution_count": 10,
      "outputs": [
        {
          "output_type": "stream",
          "name": "stdout",
          "text": [
            "[[2 6]\n",
            " [5 3]]\n",
            "[ 6 -9]\n",
            "[-3.  2.]\n",
            "X= -3.0\n",
            "Y= 2.0\n"
          ]
        }
      ]
    },
    {
      "cell_type": "code",
      "source": [
        "import matplotlib.pyplot as plt\n",
        "plt.plot([10,2,10,10,2,10])\n",
        "plt.title(\"Muito Fácil!\")\n",
        "plt.show()"
      ],
      "metadata": {
        "id": "6RVomo-j_MCU",
        "colab": {
          "base_uri": "https://localhost:8080/",
          "height": 452
        },
        "outputId": "1dbe8b98-1b92-4ac6-c289-b21e5d4b8de3"
      },
      "execution_count": 11,
      "outputs": [
        {
          "output_type": "display_data",
          "data": {
            "text/plain": [
              "<Figure size 640x480 with 1 Axes>"
            ],
            "image/png": "[encoded data removed]"
          },
          "metadata": {}
        }
      ]
    },
    {
      "cell_type": "code",
      "source": [
        "import numpy as np\n",
        "import matplotlib.pyplot as plt\n",
        "X=[10,5,2,4,6,8]\n",
        "Y=[1,2,4,8,7,4]\n",
        "plt.plot(X,Y)\n",
        "plt.show()"
      ],
      "metadata": {
        "id": "IfF1l9KkAvjc",
        "colab": {
          "base_uri": "https://localhost:8080/",
          "height": 430
        },
        "outputId": "eb7f7a64-9aee-4918-fe2a-0ad2ad72da19"
      },
      "execution_count": 12,
      "outputs": [
        {
          "output_type": "display_data",
          "data": {
            "text/plain": [
              "<Figure size 640x480 with 1 Axes>"
            ],
            "image/png": "[encoded data removed]"
          },
          "metadata": {}
        }
      ]
    },
    {
      "cell_type": "code",
      "source": [
        "X=[1,2,3,4,5,6]\n",
        "Y=[1,2,4,8,7,4]\n",
        "plt.plot(X,Y,'go')\n",
        "plt.plot(X,Y,'-',color='orange')\n",
        "plt.plot(Y,X,'r^')\n",
        "plt.plot(Y,X,'k')\n",
        "plt.title(\"Consumo X Mês\")\n",
        "plt.ylabel(\"CONSUMO\")\n",
        "plt.xlabel(\"MÊS\")\n",
        "plt.show()"
      ],
      "metadata": {
        "id": "RJQmyDJDCiub",
        "colab": {
          "base_uri": "https://localhost:8080/",
          "height": 472
        },
        "outputId": "8d39a211-bf12-4fd3-9f3e-7573bd8c82ff"
      },
      "execution_count": 14,
      "outputs": [
        {
          "output_type": "display_data",
          "data": {
            "text/plain": [
              "<Figure size 640x480 with 1 Axes>"
            ],
            "image/png": "[encoded data removed]"
          },
          "metadata": {}
        }
      ]
    },
    {
      "cell_type": "code",
      "source": [
        "def func(x):\n",
        "  result=x*x\n",
        "  return result\n",
        "\n",
        "x=[]\n",
        "y=[]\n",
        "for i in range(1001):\n",
        "  x.append(i-500)\n",
        "  y.append(func(i-500))\n",
        "\n",
        "eixoX=np.array(x)\n",
        "eixoY=np.array(y)\n",
        "#print(x)\n",
        "plt.plot(eixoX,eixoY,color=\"blue\")\n",
        "plt.show()"
      ],
      "metadata": {
        "id": "JV238GWyF39j"
      },
      "execution_count": null,
      "outputs": []
    },
    {
      "cell_type": "code",
      "source": [
        "x=[1,2,3,4,5,6]\n",
        "y=[1,2,4,8,7,4]\n",
        "eixoX=np.array(x)\n",
        "eixoY=np.array(y)\n",
        "plt.bar(eixoX,eixoY,color=['r','g','b','y'])\n",
        "plt.title(\"VENDAS X MÊS\")\n",
        "plt.ylabel(\"MILHÕES R$\")\n",
        "plt.show()"
      ],
      "metadata": {
        "id": "RG06d4WeIvCq"
      },
      "execution_count": null,
      "outputs": []
    },
    {
      "cell_type": "code",
      "source": [
        "x=[\"JAN\",\"FEV\",3,4,5,6]\n",
        "y=[1,2,4,8,7,4]\n",
        "eixoX=np.array(x)\n",
        "eixoY=np.array(y)\n",
        "plt.pie(eixoY,labels=eixoX,colors=['r','g','b','y','pink','cyan'],explode=[0.5,0,0,0.0,0.2,0])\n",
        "#plt.bar(eixoX,eixoY)\n",
        "plt.title(\"VENDAS X MÊS\")\n",
        "plt.ylabel(\"MILHÕES R$\")\n",
        "plt.show()"
      ],
      "metadata": {
        "id": "dAjzrgWPKeXh"
      },
      "execution_count": null,
      "outputs": []
    },
    {
      "cell_type": "code",
      "source": [
        "import pandas as pd\n",
        "df=pd.read_excel('Notas.xlsx')\n",
        "print(df)"
      ],
      "metadata": {
        "id": "gQg6HdJkl7E0"
      },
      "execution_count": null,
      "outputs": []
    },
    {
      "cell_type": "code",
      "source": [
        "alunos=['Aline','Bruna','Mary','Yasmin','Claudia','Débora']\n",
        "print(alunos[3])"
      ],
      "metadata": {
        "id": "2-lSWtpPqBdi"
      },
      "execution_count": null,
      "outputs": []
    },
    {
      "cell_type": "code",
      "source": [
        "print(df[['Aluno','T2']])"
      ],
      "metadata": {
        "id": "62aPFkm3nloz"
      },
      "execution_count": null,
      "outputs": []
    },
    {
      "cell_type": "code",
      "source": [
        "colunas=['Aluno','T1','T6','T2']\n",
        "print(df[colunas])"
      ],
      "metadata": {
        "id": "ZTsWvexbo0k6"
      },
      "execution_count": null,
      "outputs": []
    },
    {
      "cell_type": "code",
      "source": [
        "Turma1=df[['Aluno','T1']]\n",
        "print(Turma1)"
      ],
      "metadata": {
        "id": "_tCMQmTKrOx3"
      },
      "execution_count": null,
      "outputs": []
    },
    {
      "cell_type": "code",
      "source": [
        "import matplotlib.pyplot as plt\n",
        "\n",
        "eixoX=Turma1[\"Aluno\"]\n",
        "eixoY=Turma1[\"T1\"]\n",
        "#print(eixoX)\n",
        "#print(eixoY)\n",
        "plt.bar(eixoX,eixoY,color=[\"blue\",\"yellow\",'green','red'])\n",
        "plt.title(\"NOTAS DA TURMA 1\")\n",
        "plt.xlabel(\"ALUNOS DA TURMA\")\n",
        "plt.ylabel(\"MÉDIA FINAL\")\n",
        "plt.show()"
      ],
      "metadata": {
        "id": "wXgKCE13rfH2"
      },
      "execution_count": null,
      "outputs": []
    },
    {
      "cell_type": "code",
      "source": [
        "#print(Turma1[Turma1['T1']>6])\n",
        "MediaMaior=Turma1[Turma1['T1']>=6]\n",
        "eixoX=MediaMaior['Aluno']\n",
        "eixoY=MediaMaior['T1']\n",
        "plt.bar(eixoX,eixoY,color=['blue','yellow','green','red'])\n",
        "plt.title(\"NOTAS DA TURMA 1 - APROVADOS\")\n",
        "plt.xlabel(\"ALUNOS DA TURMA\")\n",
        "plt.ylabel(\"MÉDIA FINAL\")\n",
        "plt.show()"
      ],
      "metadata": {
        "id": "louyAsP7tzar"
      },
      "execution_count": null,
      "outputs": []
    },
    {
      "cell_type": "code",
      "source": [
        "x=df['T1'].sum()\n",
        "print(x)"
      ],
      "metadata": {
        "id": "P48Bt413Pv8i"
      },
      "execution_count": null,
      "outputs": []
    },
    {
      "cell_type": "code",
      "source": [
        "def calcMedia(dados):\n",
        "  media=[]\n",
        "  media.append(dados['T1'].mean())\n",
        "  media.append(dados['T2'].mean())\n",
        "  media.append(dados['T3'].mean())\n",
        "  media.append(dados['T4'].mean())\n",
        "  media.append(dados['T5'].mean())\n",
        "  media.append(dados['T6'].mean())\n",
        "  return media\n",
        "\n",
        "def calcMediana(dados):\n",
        "  media=[]\n",
        "  media.append(dados['T1'].median())\n",
        "  media.append(dados['T2'].median())\n",
        "  media.append(dados['T3'].median())\n",
        "  media.append(dados['T4'].median())\n",
        "  media.append(dados['T5'].median())\n",
        "  media.append(dados['T6'].median())\n",
        "  return media\n",
        "\n",
        "\n",
        "Medias=calcMediana(df)\n",
        "print(Medias)\n",
        "eixoX=['T1','T2','T3','T4','T5','T6']\n",
        "plt.bar(eixoX,Medias)\n",
        "plt.plot(Medias,color='red')\n",
        "plt.show()"
      ],
      "metadata": {
        "id": "qIEfOC8XxZPC"
      },
      "execution_count": null,
      "outputs": []
    },
    {
      "cell_type": "code",
      "source": [
        "cores=['green','yellow','red']\n",
        "coresNota=[]\n",
        "for i in range(len(Turma1['T1'])):\n",
        "  if Turma1['T1'][i]>=8:\n",
        "    coresNota.append(cores[0])\n",
        "  elif Turma1['T1'][i]>=6:\n",
        "    coresNota.append(cores[1])\n",
        "  else :\n",
        "    coresNota.append(cores[2])\n",
        "\n",
        "for i in range(len(Turma1['T1'])):\n",
        "  print(Turma1['T1'][i],coresNota[i])\n",
        "\n",
        "print(coresNota)\n",
        "eixoX=Turma1['Aluno']\n",
        "eixoY=Turma1['T1']\n",
        "plt.bar(eixoX,eixoY,color=coresNota)\n",
        "plt.title(\"NOTAS DA TURMA 1\")\n",
        "plt.xlabel(\"ALUNOS DA TURMA\")\n",
        "plt.ylabel(\"MÉDIA FINAL\")\n",
        "plt.show()"
      ],
      "metadata": {
        "id": "4qeRK3ByCeQ6"
      },
      "execution_count": null,
      "outputs": []
    },
    {
      "cell_type": "code",
      "source": [
        "cores=['cyan','pink','black']\n",
        "coresNota=[]\n",
        "for i in range(len(Turma1['T1'])):\n",
        "  print(Turma1['T1'][i])\n",
        "  if Turma1['T1'][i]>=8:\n",
        "    coresNota.append(cores[0])\n",
        "  elif Turma1['T1'][i]>=5:\n",
        "    coresNota.append(cores[1])\n",
        "  else :\n",
        "    coresNota.append(cores[2])\n",
        "\n",
        "\n",
        "eixoX=Turma1['Aluno']\n",
        "eixoY=Turma1['T1']\n",
        "plt.bar(eixoX,eixoY,color=coresNota)\n",
        "plt.title(\"NOTAS DA TURMA 1\")\n",
        "plt.xlabel(\"ALUNOS DA TURMA\")\n",
        "plt.ylabel(\"MÉDIA FINAL\")\n",
        "plt.show()"
      ],
      "metadata": {
        "id": "Wdot4_MO9umt"
      },
      "execution_count": null,
      "outputs": []
    },
    {
      "cell_type": "code",
      "source": [
        "Medias=calcMediana(df)\n",
        "maior=max(Medias)\n",
        "menor=min(Medias)\n",
        "listaExplode=[]\n",
        "for m in Medias:\n",
        "  if m>=maior or m<=menor:\n",
        "    listaExplode.append(0.2)\n",
        "  else:\n",
        "    listaExplode.append(0.0)\n",
        "\n",
        "print(Medias)\n",
        "eixoX=['T1','T2','T3','T4','T5','T6']\n",
        "plt.pie(Medias,labels=eixoX,autopct=\"%5.3f%%\",\n",
        "        colors=['skyblue','violet','g','orange','cyan','mediumslateblue'],\n",
        "        explode=listaExplode,shadow=True)\n",
        "plt.title(\"DISTRIBUIÇÃO DE NOTAS ENTRE AS TURMAS\")\n",
        "plt.show()"
      ],
      "metadata": {
        "id": "sdol2AARE_2g"
      },
      "execution_count": null,
      "outputs": []
    },
    {
      "cell_type": "code",
      "source": [
        "Medias=calcMediana(df)\n",
        "print(Medias)\n",
        "eixoX=['T1','T2','T3','T4','T5','T6']\n",
        "plt.pie(Medias,labels=eixoX,autopct=\"%5.3f%%\",\n",
        "        colors=['skyblue','violet','g','orange','cyan','mediumslateblue'],\n",
        "        explode=[0.2,0,0,0.2,0,0],shadow=True)\n",
        "plt.title(\"DISTRIBUIÇÃO DE NOTAS ENTRE AS TURMAS\")\n",
        "plt.show()"
      ],
      "metadata": {
        "id": "16uOutjnR0_b"
      },
      "execution_count": null,
      "outputs": []
    }
  ]
}