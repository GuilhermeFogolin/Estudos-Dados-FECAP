{
  "cells": [
    {
      "cell_type": "markdown",
      "metadata": {
        "id": "view-in-github",
        "colab_type": "text"
      },
      "source": [
        "<a href=\"https://colab.research.google.com/github/GuilhermeFogolin/Estudos-Dados-FECAP/blob/main/02_Pandas.ipynb\" target=\"_parent\"><img src=\"https://colab.research.google.com/assets/colab-badge.svg\" alt=\"Open In Colab\"/></a>"
      ]
    },
    {
      "cell_type": "code",
      "execution_count": 1,
      "metadata": {
        "id": "6nq5P1SQqkH-",
        "colab": {
          "base_uri": "https://localhost:8080/"
        },
        "outputId": "2029c943-069c-43b1-953f-e14204b1b734"
      },
      "outputs": [
        {
          "output_type": "stream",
          "name": "stdout",
          "text": [
            "     cliente  codigoconcessao situacaopagamento  tempodeatraso      situacao  \\\n",
            "0          1             7616            Normal              0    Adimplente   \n",
            "1          2              281         Em atraso             95  Inadimplente   \n",
            "2          3              282            Normal              0    Adimplente   \n",
            "3          4             7889         Em atraso            106  Inadimplente   \n",
            "4          5              283            Normal              0    Adimplente   \n",
            "..       ...              ...               ...            ...           ...   \n",
            "112      113             1967            Normal              0    Adimplente   \n",
            "113      114              344            Normal              0    Adimplente   \n",
            "114      115              345            Normal              0    Adimplente   \n",
            "115      116              346            Normal              0    Adimplente   \n",
            "116      117             1825            Normal              0    Adimplente   \n",
            "\n",
            "    valorcredito    perda       sexo  idade  renda  numfilhos  estadocivil  \\\n",
            "0        3520,00     0,00  masculino     38      2          0            0   \n",
            "1        1046,85   866,80   feminino     22      2          1            1   \n",
            "2        4550,00     0,00  masculino     29      3          0            1   \n",
            "3        2625,00  2100,00   feminino     21      3          1            0   \n",
            "4        1200,00     0,00   feminino     22      1          0            1   \n",
            "..           ...      ...        ...    ...    ...        ...          ...   \n",
            "112      3599,00     0,00   feminino     21      2          0            0   \n",
            "113      4800,00     0,00   feminino     21      3          0            0   \n",
            "114      2750,00     0,00  masculino     27      3          0            1   \n",
            "115      2105,00     0,00   feminino     31      1          3            0   \n",
            "116      3150,00     0,00  masculino     22      1          1            0   \n",
            "\n",
            "    regiao  possuiresidencia gastoscartao  \n",
            "0        C                 0      1184,05  \n",
            "1        A                 0      1472,26  \n",
            "2        B                 1      1855,63  \n",
            "3        D                 0      3052,43  \n",
            "4        C                 1      3603,92  \n",
            "..     ...               ...          ...  \n",
            "112      C                 0       307,29  \n",
            "113      B                 1      1138,49  \n",
            "114      D                 1       639,46  \n",
            "115      A                 0      2903,77  \n",
            "116      D                 0      3490,99  \n",
            "\n",
            "[117 rows x 15 columns]\n"
          ]
        }
      ],
      "source": [
        "import pandas as pd\n",
        "df=pd.read_csv(\"Base_De_Credito.csv\",sep=\";\")\n",
        "print(df)"
      ]
    },
    {
      "cell_type": "code",
      "execution_count": null,
      "metadata": {
        "id": "o9nZlMsOswrN"
      },
      "outputs": [],
      "source": [
        "print(df[['cliente','perda','valorcredito']])"
      ]
    },
    {
      "cell_type": "code",
      "execution_count": null,
      "metadata": {
        "id": "9lnXWeBFtdG8"
      },
      "outputs": [],
      "source": [
        "print(\"ORDENADO POR PERDA DECRESCENTE\")\n",
        "print(df[['cliente','perda','valorcredito']].sort_values(by=\"perda\", ascending=False))"
      ]
    },
    {
      "cell_type": "code",
      "execution_count": null,
      "metadata": {
        "id": "WxFbspOeu6ma"
      },
      "outputs": [],
      "source": [
        "print(\"ORDENADO POR PERDA DECRESCENTE\")\n",
        "print(df[['cliente','perda','valorcredito']].sort_values(by=[\"perda\",\"valorcredito\"], ascending=[False,False]))"
      ]
    },
    {
      "cell_type": "code",
      "execution_count": null,
      "metadata": {
        "id": "_-psJ_bQwFTZ"
      },
      "outputs": [],
      "source": [
        "for i in range(len(df)):\n",
        "  print(\"CLIENTE          :\",df.iloc[i]['cliente'])\n",
        "  print(\"VALOR DE CRÉDITO :\",df.iloc[i]['valorcredito'])\n",
        "  print(\"************************************\")\n"
      ]
    },
    {
      "cell_type": "code",
      "execution_count": null,
      "metadata": {
        "id": "NxnSLzwWxGOA"
      },
      "outputs": [],
      "source": [
        "#print(df.count())\n",
        "print(df.count()['cliente'])"
      ]
    },
    {
      "cell_type": "code",
      "execution_count": null,
      "metadata": {
        "id": "WAK-Y7mrxYDv"
      },
      "outputs": [],
      "source": [
        "print(df['valorcredito'].sum())"
      ]
    },
    {
      "cell_type": "code",
      "execution_count": null,
      "metadata": {
        "id": "f_qD9Xf4x3BH"
      },
      "outputs": [],
      "source": [
        "print(\"TOTAL CLIENTE POR SEXO\")\n",
        "print(df[[\"sexo\",\"cliente\"  ]].groupby(by=\"sexo\").count())"
      ]
    },
    {
      "cell_type": "code",
      "execution_count": null,
      "metadata": {
        "id": "OklZNfF8yUKe"
      },
      "outputs": [],
      "source": [
        "print(\"VALOR DE CRÉDIDO POR SEXO\")\n",
        "print(df[[\"sexo\",\"valorcredito\"]].groupby(by=\"sexo\").sum())"
      ]
    },
    {
      "cell_type": "code",
      "execution_count": null,
      "metadata": {
        "id": "9RxDhRYAzJ1k"
      },
      "outputs": [],
      "source": [
        "print(\"VALOR DE CRÉDIDO POR SEXO\")\n",
        "print(df[[\"sexo\",\"valorcredito\"]].groupby(by=\"sexo\").sum().reset_index())"
      ]
    },
    {
      "cell_type": "code",
      "execution_count": null,
      "metadata": {
        "id": "bwKiiJ91zxFy"
      },
      "outputs": [],
      "source": [
        "print(\"QUANTIDADE DE CLIENTES POR SITUAÇÃO PAGTO.\")\n",
        "print(df[['situacaopagamento','cliente']].groupby('situacaopagamento').count().reset_index())"
      ]
    },
    {
      "cell_type": "code",
      "execution_count": null,
      "metadata": {
        "id": "smgawgyb0vyq"
      },
      "outputs": [],
      "source": [
        "print(\"VALOR DE CRÉDITO POR SITUAÇÃO PAGTO.\")\n",
        "dfAtraso=df[['situacaopagamento','valorcredito']].groupby('situacaopagamento').sum().reset_index()\n",
        "print(dfAtraso)"
      ]
    },
    {
      "cell_type": "code",
      "execution_count": null,
      "metadata": {
        "id": "SQx5RvDl1axv"
      },
      "outputs": [],
      "source": [
        "import matplotlib.pyplot as plt\n",
        "plt.pie(dfAtraso['valorcredito'],colors=['r','g'],explode=[0,0.1],\n",
        "        autopct='%1.1f%%',labels=dfAtraso['situacaopagamento'])\n",
        "plt.show()\n"
      ]
    },
    {
      "cell_type": "code",
      "execution_count": null,
      "metadata": {
        "id": "hFe9Fo6R5bsy"
      },
      "outputs": [],
      "source": [
        "import matplotlib.pyplot as plt\n",
        "df1=df[['valorcredito','tempodeatraso']]\n",
        "df1=df1[df1[\"tempodeatraso\"]>0]\n",
        "df1=df1.sort_values(by=\"valorcredito\")\n",
        "#print(df1)\n",
        "gdf=df1[['valorcredito','tempodeatraso']].groupby(\"valorcredito\").mean().reset_index()\n",
        "print(gdf)\n",
        "eixoX=gdf[\"tempodeatraso\"]\n",
        "eixoY=gdf[\"valorcredito\"]\n",
        "plt.bar(eixoX,eixoY)\n",
        "plt.show()"
      ]
    },
    {
      "cell_type": "code",
      "execution_count": null,
      "metadata": {
        "id": "B0ylK8gmE3H1"
      },
      "outputs": [],
      "source": [
        "faixasCredito=[\"1-Até 1800\",\"2-De 1800 até 2750\",\"3-De 2751 Até 3400\",\"4-Acima de 3400\"]\n",
        "faixas=[]\n",
        "for i in range(len(df)):\n",
        "  if (df.iloc[i][\"valorcredito\"]<=1800):\n",
        "    faixas.append(faixasCredito[0])\n",
        "  elif (df.iloc[i][\"valorcredito\"]<=2750):\n",
        "    faixas.append(faixasCredito[1])\n",
        "  elif (df.iloc[i][\"valorcredito\"]<=3400):\n",
        "    faixas.append(faixasCredito[2])\n",
        "  else:\n",
        "    faixas.append(faixasCredito[3])\n",
        "\n",
        "df[\"FaixasCredito\"]=faixas\n",
        "print(df[[\"cliente\",\"valorcredito\",\"FaixasCredito\"]])\n",
        "df1=df[[\"FaixasCredito\",\"tempodeatraso\"]]\n",
        "df1=df1[df[\"tempodeatraso\"]>0]\n",
        "df1=df1.sort_values(by=\"FaixasCredito\")\n",
        "gdf=df1[[\"FaixasCredito\",\"tempodeatraso\"]].groupby(\"FaixasCredito\").count().reset_index()\n",
        "print(gdf)\n",
        "eixoY=gdf[\"tempodeatraso\"]\n",
        "eixoX=gdf[\"FaixasCredito\"]\n",
        "plt.figure(figsize=(8,5))\n",
        "plt.bar(eixoX,eixoY)\n",
        "plt.show()"
      ]
    },
    {
      "cell_type": "code",
      "execution_count": null,
      "metadata": {
        "id": "AEimUOsULdHK"
      },
      "outputs": [],
      "source": [
        "plt.pie(eixoY,labels=eixoX,autopct=\"%1.2f%%\")\n",
        "plt.show()"
      ]
    },
    {
      "cell_type": "code",
      "execution_count": null,
      "metadata": {
        "id": "EpYzRKWKRfQ8"
      },
      "outputs": [],
      "source": [
        "faixasIdade=[\"1-Até 21\",\"2-De 22 até 25\",\"3-De 26 Até 30\",\"4-Acima de 30\"]\n",
        "faixas=[]\n",
        "for i in range(len(df)):\n",
        "  if (df.iloc[i][\"idade\"]<=21):\n",
        "    faixas.append(faixasIdade[0])\n",
        "  elif (df.iloc[i][\"idade\"]<=25):\n",
        "    faixas.append(faixasIdade[1])\n",
        "  elif (df.iloc[i][\"idade\"]<=30):\n",
        "    faixas.append(faixasIdade[2])\n",
        "  else:\n",
        "    faixas.append(faixasIdade[3])\n",
        "\n",
        "df[\"FaixasIdade\"]=faixas\n",
        "df1=df[[\"FaixasIdade\",\"tempodeatraso\",\"valorcredito\"]]\n",
        "#df1=df1[df[\"tempodeatraso\"]>0]\n",
        "df1=df1.sort_values(by=\"FaixasIdade\")\n",
        "gdf=df1[[\"FaixasIdade\",\"valorcredito\"]].groupby(\"FaixasIdade\").mean().reset_index()\n",
        "print(gdf)\n",
        "eixoY=gdf[\"valorcredito\"]\n",
        "eixoX=gdf[\"FaixasIdade\"]\n",
        "plt.figure(figsize=(8,5))\n",
        "plt.bar(eixoX,eixoY)\n",
        "plt.show()"
      ]
    }
  ],
  "metadata": {
    "colab": {
      "provenance": [],
      "include_colab_link": true
    },
    "kernelspec": {
      "display_name": "Python 3 (ipykernel)",
      "language": "python",
      "name": "python3"
    },
    "language_info": {
      "codemirror_mode": {
        "name": "ipython",
        "version": 3
      },
      "file_extension": ".py",
      "mimetype": "text/x-python",
      "name": "python",
      "nbconvert_exporter": "python",
      "pygments_lexer": "ipython3",
      "version": "3.11.0"
    }
  },
  "nbformat": 4,
  "nbformat_minor": 0
}