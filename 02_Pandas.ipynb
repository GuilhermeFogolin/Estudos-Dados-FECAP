{
  "cells": [
    {
      "cell_type": "markdown",
      "metadata": {
        "id": "view-in-github",
        "colab_type": "text"
      },
      "source": [
        "<a href=\"https://colab.research.google.com/github/GuilhermeFogolin/Estudos-Dados-FECAP/blob/main/02_Pandas.ipynb\" target=\"_parent\"><img src=\"https://colab.research.google.com/assets/colab-badge.svg\" alt=\"Open In Colab\"/></a>"
      ]
    },
    {
      "cell_type": "code",
      "execution_count": 1,
      "metadata": {
        "id": "6nq5P1SQqkH-",
        "colab": {
          "base_uri": "https://localhost:8080/"
        },
        "outputId": "2029c943-069c-43b1-953f-e14204b1b734"
      },
      "outputs": [
        {
          "output_type": "stream",
          "name": "stdout",
          "text": [
            "     cliente  codigoconcessao situacaopagamento  tempodeatraso      situacao  \\\n",
            "0          1             7616            Normal              0    Adimplente   \n",
            "1          2              281         Em atraso             95  Inadimplente   \n",
            "2          3              282            Normal              0    Adimplente   \n",
            "3          4             7889         Em atraso            106  Inadimplente   \n",
            "4          5              283            Normal              0    Adimplente   \n",
            "..       ...              ...               ...            ...           ...   \n",
            "112      113             1967            Normal              0    Adimplente   \n",
            "113      114              344            Normal              0    Adimplente   \n",
            "114      115              345            Normal              0    Adimplente   \n",
            "115      116              346            Normal              0    Adimplente   \n",
            "116      117             1825            Normal              0    Adimplente   \n",
            "\n",
            "    valorcredito    perda       sexo  idade  renda  numfilhos  estadocivil  \\\n",
            "0        3520,00     0,00  masculino     38      2          0            0   \n",
            "1        1046,85   866,80   feminino     22      2          1            1   \n",
            "2        4550,00     0,00  masculino     29      3          0            1   \n",
            "3        2625,00  2100,00   feminino     21      3          1            0   \n",
            "4        1200,00     0,00   feminino     22      1          0            1   \n",
            "..           ...      ...        ...    ...    ...        ...          ...   \n",
            "112      3599,00     0,00   feminino     21      2          0            0   \n",
            "113      4800,00     0,00   feminino     21      3          0            0   \n",
            "114      2750,00     0,00  masculino     27      3          0            1   \n",
            "115      2105,00     0,00   feminino     31      1          3            0   \n",
            "116      3150,00     0,00  masculino     22      1          1            0   \n",
            "\n",
            "    regiao  possuiresidencia gastoscartao  \n",
            "0        C                 0      1184,05  \n",
            "1        A                 0      1472,26  \n",
            "2        B                 1      1855,63  \n",
            "3        D                 0      3052,43  \n",
            "4        C                 1      3603,92  \n",
            "..     ...               ...          ...  \n",
            "112      C                 0       307,29  \n",
            "113      B                 1      1138,49  \n",
            "114      D                 1       639,46  \n",
            "115      A                 0      2903,77  \n",
            "116      D                 0      3490,99  \n",
            "\n",
            "[117 rows x 15 columns]\n"
          ]
        }
      ],
      "source": [
        "import pandas as pd\n",
        "df=pd.read_csv(\"Base_De_Credito.csv\",sep=\";\")\n",
        "print(df)"
      ]
    },
    {
      "cell_type": "code",
      "execution_count": 2,
      "metadata": {
        "id": "o9nZlMsOswrN",
        "colab": {
          "base_uri": "https://localhost:8080/"
        },
        "outputId": "5ae8c998-51bd-411e-f753-7dc1f930b5dd"
      },
      "outputs": [
        {
          "output_type": "stream",
          "name": "stdout",
          "text": [
            "     cliente    perda valorcredito\n",
            "0          1     0,00      3520,00\n",
            "1          2   866,80      1046,85\n",
            "2          3     0,00      4550,00\n",
            "3          4  2100,00      2625,00\n",
            "4          5     0,00      1200,00\n",
            "..       ...      ...          ...\n",
            "112      113     0,00      3599,00\n",
            "113      114     0,00      4800,00\n",
            "114      115     0,00      2750,00\n",
            "115      116     0,00      2105,00\n",
            "116      117     0,00      3150,00\n",
            "\n",
            "[117 rows x 3 columns]\n"
          ]
        }
      ],
      "source": [
        "print(df[['cliente','perda','valorcredito']])"
      ]
    },
    {
      "cell_type": "code",
      "execution_count": 4,
      "metadata": {
        "id": "9lnXWeBFtdG8",
        "colab": {
          "base_uri": "https://localhost:8080/"
        },
        "outputId": "ea4aa768-fb30-4d39-c869-da89a26e1427"
      },
      "outputs": [
        {
          "output_type": "stream",
          "name": "stdout",
          "text": [
            "Ordenado por perda decrescente\n",
            "    cliente    perda valorcredito\n",
            "0         1     0,00      3520,00\n",
            "80       81     0,00      3599,00\n",
            "79       80     0,00      2750,00\n",
            "78       79     0,00      5800,00\n",
            "76       77     0,00      4325,00\n",
            "..      ...      ...          ...\n",
            "40       41  4941,00      5490,00\n",
            "29       30  5520,00      6900,00\n",
            "43       44   817,80      1046,85\n",
            "1         2   866,80      1046,85\n",
            "31       32   892,50      1275,00\n",
            "\n",
            "[117 rows x 3 columns]\n"
          ]
        }
      ],
      "source": [
        "print(\"Ordenado por perda decrescente\")\n",
        "print(df[['cliente','perda','valorcredito']].sort_values(by=\"perda\", ascending=False))"
      ]
    },
    {
      "cell_type": "code",
      "execution_count": 5,
      "metadata": {
        "id": "WxFbspOeu6ma",
        "colab": {
          "base_uri": "https://localhost:8080/"
        },
        "outputId": "78da83ff-9988-431c-b862-8f8c653838ce"
      },
      "outputs": [
        {
          "output_type": "stream",
          "name": "stdout",
          "text": [
            "Ordenado por perda e valor de crédito\n",
            "    cliente    perda valorcredito\n",
            "31       32   892,50      1275,00\n",
            "1         2   866,80      1046,85\n",
            "43       44   817,80      1046,85\n",
            "29       30  5520,00      6900,00\n",
            "40       41  4941,00      5490,00\n",
            "..      ...      ...          ...\n",
            "73       74     0,00      1275,00\n",
            "4         5     0,00      1200,00\n",
            "46       47     0,00      1200,00\n",
            "12       13     0,00      1050,00\n",
            "54       55     0,00      1050,00\n",
            "\n",
            "[117 rows x 3 columns]\n"
          ]
        }
      ],
      "source": [
        "print(\"Ordenado por perda e valor de crédito\")\n",
        "print(df[['cliente','perda','valorcredito']].sort_values(by=[\"perda\",\"valorcredito\"], ascending=[False,False]))"
      ]
    },
    {
      "cell_type": "code",
      "execution_count": null,
      "metadata": {
        "id": "_-psJ_bQwFTZ"
      },
      "outputs": [],
      "source": [
        "for i in range(len(df)):\n",
        "  print(\"Cliente          :\",df.iloc[i]['cliente'])\n",
        "  print(\"Valor de crédito : R$\",df.iloc[i]['valorcredito'])\n",
        "  print(\"************************************\")\n"
      ]
    },
    {
      "cell_type": "code",
      "execution_count": 9,
      "metadata": {
        "colab": {
          "base_uri": "https://localhost:8080/"
        },
        "id": "NxnSLzwWxGOA",
        "outputId": "a07000bb-4382-4835-a8c0-d77b1468e662"
      },
      "outputs": [
        {
          "output_type": "stream",
          "name": "stdout",
          "text": [
            "cliente              117\n",
            "codigoconcessao      117\n",
            "situacaopagamento    117\n",
            "tempodeatraso        117\n",
            "situacao             117\n",
            "valorcredito         117\n",
            "perda                117\n",
            "sexo                 117\n",
            "idade                117\n",
            "renda                117\n",
            "numfilhos            117\n",
            "estadocivil          117\n",
            "regiao               117\n",
            "possuiresidencia     117\n",
            "gastoscartao         117\n",
            "dtype: int64\n",
            "117\n"
          ]
        }
      ],
      "source": [
        "print(df.count())\n",
        "print(df.count()['cliente'])"
      ]
    },
    {
      "cell_type": "code",
      "execution_count": 18,
      "metadata": {
        "colab": {
          "base_uri": "https://localhost:8080/"
        },
        "id": "WAK-Y7mrxYDv",
        "outputId": "706fa3a5-febb-4991-99da-19f7768c8d0f"
      },
      "outputs": [
        {
          "output_type": "stream",
          "name": "stdout",
          "text": [
            "382797.7\n"
          ]
        }
      ],
      "source": [
        "df['Vendas_Decimal'] = (\n",
        "    df['valorcredito']\n",
        "    .str.replace('R$', '', regex=False)\n",
        "    .str.replace('.', '', regex=False)\n",
        "    .str.replace(',', '.', regex=False)\n",
        "    .astype(float)\n",
        ")\n",
        "\n",
        "total_vendas_convertidas = df['Vendas_Decimal'].sum()\n",
        "print(total_vendas_convertidas)"
      ]
    },
    {
      "cell_type": "code",
      "execution_count": 19,
      "metadata": {
        "colab": {
          "base_uri": "https://localhost:8080/"
        },
        "id": "f_qD9Xf4x3BH",
        "outputId": "a66890e1-821e-4852-bd97-28d091ae11cb"
      },
      "outputs": [
        {
          "output_type": "stream",
          "name": "stdout",
          "text": [
            "TOTAL CLIENTE POR SEXO\n",
            "           cliente\n",
            "sexo              \n",
            "feminino        45\n",
            "masculino       72\n"
          ]
        }
      ],
      "source": [
        "print(\"TOTAL CLIENTE POR SEXO\")\n",
        "print(df[[\"sexo\",\"cliente\"]].groupby(by=\"sexo\").count())"
      ]
    },
    {
      "cell_type": "code",
      "execution_count": 25,
      "metadata": {
        "colab": {
          "base_uri": "https://localhost:8080/"
        },
        "id": "OklZNfF8yUKe",
        "outputId": "4d1a7b39-036a-43c2-a8ab-07e06f7a9d2e"
      },
      "outputs": [
        {
          "output_type": "stream",
          "name": "stdout",
          "text": [
            "VALOR DE CRÉDIDO POR SEXO\n",
            "           Vendas_Decimal\n",
            "sexo                     \n",
            "feminino        155666.35\n",
            "masculino       227131.35\n"
          ]
        }
      ],
      "source": [
        "print(\"VALOR DE CRÉDIDO POR SEXO\")\n",
        "print(df[[\"sexo\",\"Vendas_Decimal\"]].groupby(by=\"sexo\").sum())"
      ]
    },
    {
      "cell_type": "code",
      "execution_count": 26,
      "metadata": {
        "id": "9RxDhRYAzJ1k",
        "colab": {
          "base_uri": "https://localhost:8080/"
        },
        "outputId": "8986a7a7-6fb3-4a60-a9f6-5d2966d771c4"
      },
      "outputs": [
        {
          "output_type": "stream",
          "name": "stdout",
          "text": [
            "VALOR DE CRÉDIDO POR SEXO\n",
            "        sexo  Vendas_Decimal\n",
            "0   feminino       155666.35\n",
            "1  masculino       227131.35\n"
          ]
        }
      ],
      "source": [
        "print(\"VALOR DE CRÉDIDO POR SEXO\")\n",
        "print(df[[\"sexo\",\"Vendas_Decimal\"]].groupby(by=\"sexo\").sum().reset_index())"
      ]
    },
    {
      "cell_type": "code",
      "execution_count": 22,
      "metadata": {
        "colab": {
          "base_uri": "https://localhost:8080/"
        },
        "id": "bwKiiJ91zxFy",
        "outputId": "57dcb504-3b66-4eac-ada6-68796f4de780"
      },
      "outputs": [
        {
          "output_type": "stream",
          "name": "stdout",
          "text": [
            "QUANTIDADE DE CLIENTES POR SITUAÇÃO PAGTO.\n",
            "  situacaopagamento  cliente\n",
            "0         Em atraso       34\n",
            "1            Normal       83\n"
          ]
        }
      ],
      "source": [
        "print(\"QUANTIDADE DE CLIENTES POR SITUAÇÃO PAGTO.\")\n",
        "print(df[['situacaopagamento','cliente']].groupby('situacaopagamento').count().reset_index())"
      ]
    },
    {
      "cell_type": "code",
      "execution_count": 27,
      "metadata": {
        "colab": {
          "base_uri": "https://localhost:8080/"
        },
        "id": "smgawgyb0vyq",
        "outputId": "f678f811-ee60-4419-f4c0-aef2963ee79e"
      },
      "outputs": [
        {
          "output_type": "stream",
          "name": "stdout",
          "text": [
            "VALOR DE CRÉDITO POR SITUAÇÃO PAGTO.\n",
            "  situacaopagamento  Vendas_Decimal\n",
            "0         Em atraso        116852.7\n",
            "1            Normal        265945.0\n"
          ]
        }
      ],
      "source": [
        "print(\"VALOR DE CRÉDITO POR SITUAÇÃO PAGTO.\")\n",
        "dfAtraso=df[['situacaopagamento','Vendas_Decimal']].groupby('situacaopagamento').sum().reset_index()\n",
        "print(dfAtraso)"
      ]
    },
    {
      "cell_type": "code",
      "execution_count": 28,
      "metadata": {
        "id": "SQx5RvDl1axv",
        "colab": {
          "base_uri": "https://localhost:8080/",
          "height": 406
        },
        "outputId": "7871df40-253d-4cb7-b6bd-778a7f3b3ee2"
      },
      "outputs": [
        {
          "output_type": "display_data",
          "data": {
            "text/plain": [
              "<Figure size 640x480 with 1 Axes>"
            ],
            "image/png": "[encoded data removed]"
          },
          "metadata": {}
        }
      ],
      "source": [
        "import matplotlib.pyplot as plt\n",
        "plt.pie(dfAtraso['Vendas_Decimal'],colors=['r','g'],explode=[0,0.1],\n",
        "        autopct='%1.1f%%',labels=dfAtraso['situacaopagamento'])\n",
        "plt.show()"
      ]
    },
    {
      "cell_type": "code",
      "execution_count": 29,
      "metadata": {
        "colab": {
          "base_uri": "https://localhost:8080/",
          "height": 930
        },
        "id": "hFe9Fo6R5bsy",
        "outputId": "046cea6f-80a0-4d33-ba68-f73d95d9b93f"
      },
      "outputs": [
        {
          "output_type": "stream",
          "name": "stdout",
          "text": [
            "    Vendas_Decimal  tempodeatraso\n",
            "0          1046.85      95.000000\n",
            "1          1275.00      65.000000\n",
            "2          1545.00     130.000000\n",
            "3          1894.50      84.000000\n",
            "4          2354.00      68.666667\n",
            "5          2455.00      77.000000\n",
            "6          2625.00     106.000000\n",
            "7          3000.00     112.000000\n",
            "8          3045.00      88.000000\n",
            "9          3225.00      89.000000\n",
            "10         3335.00     111.000000\n",
            "11         3500.00      69.000000\n",
            "12         3599.00      85.000000\n",
            "13         3750.00     105.000000\n",
            "14         4150.00      77.000000\n",
            "15         4200.00      65.000000\n",
            "16         4214.00      65.000000\n",
            "17         4350.00      95.000000\n",
            "18         4500.00      72.000000\n",
            "19         4550.00     106.000000\n",
            "20         4700.00     103.000000\n",
            "21         4750.00      98.000000\n",
            "22         4850.00     101.000000\n",
            "23         4955.00      81.000000\n",
            "24         5200.00     105.000000\n",
            "25         5490.00     145.000000\n",
            "26         6900.00     101.000000\n"
          ]
        },
        {
          "output_type": "display_data",
          "data": {
            "text/plain": [
              "<Figure size 640x480 with 1 Axes>"
            ],
            "image/png": "[encoded data removed]"
          },
          "metadata": {}
        }
      ],
      "source": [
        "import matplotlib.pyplot as plt\n",
        "df1=df[['Vendas_Decimal','tempodeatraso']]\n",
        "df1=df1[df1[\"tempodeatraso\"]>0]\n",
        "df1=df1.sort_values(by=\"Vendas_Decimal\")\n",
        "#print(df1)\n",
        "gdf=df1[['Vendas_Decimal','tempodeatraso']].groupby(\"Vendas_Decimal\").mean().reset_index()\n",
        "print(gdf)\n",
        "eixoX=gdf[\"tempodeatraso\"]\n",
        "eixoY=gdf[\"Vendas_Decimal\"]\n",
        "plt.bar(eixoX,eixoY)\n",
        "plt.show()"
      ]
    },
    {
      "cell_type": "code",
      "execution_count": 30,
      "metadata": {
        "colab": {
          "base_uri": "https://localhost:8080/",
          "height": 784
        },
        "id": "B0ylK8gmE3H1",
        "outputId": "27bcc93b-b281-4739-9d87-529534e1e6e2"
      },
      "outputs": [
        {
          "output_type": "stream",
          "name": "stdout",
          "text": [
            "     cliente  Vendas_Decimal       FaixasCredito\n",
            "0          1         3520.00     4-Acima de 3400\n",
            "1          2         1046.85          1-Até 1800\n",
            "2          3         4550.00     4-Acima de 3400\n",
            "3          4         2625.00  2-De 1800 até 2750\n",
            "4          5         1200.00          1-Até 1800\n",
            "..       ...             ...                 ...\n",
            "112      113         3599.00     4-Acima de 3400\n",
            "113      114         4800.00     4-Acima de 3400\n",
            "114      115         2750.00  2-De 1800 até 2750\n",
            "115      116         2105.00  2-De 1800 até 2750\n",
            "116      117         3150.00  3-De 2751 Até 3400\n",
            "\n",
            "[117 rows x 3 columns]\n",
            "        FaixasCredito  tempodeatraso\n",
            "0          1-Até 1800              5\n",
            "1  2-De 1800 até 2750              7\n",
            "2  3-De 2751 Até 3400              4\n",
            "3     4-Acima de 3400             18\n"
          ]
        },
        {
          "output_type": "display_data",
          "data": {
            "text/plain": [
              "<Figure size 800x500 with 1 Axes>"
            ],
            "image/png": "[encoded data removed]"
          },
          "metadata": {}
        }
      ],
      "source": [
        "faixasCredito=[\"1-Até 1800\",\"2-De 1800 até 2750\",\"3-De 2751 Até 3400\",\"4-Acima de 3400\"]\n",
        "faixas=[]\n",
        "for i in range(len(df)):\n",
        "  if (df.iloc[i][\"Vendas_Decimal\"]<=1800):\n",
        "    faixas.append(faixasCredito[0])\n",
        "  elif (df.iloc[i][\"Vendas_Decimal\"]<=2750):\n",
        "    faixas.append(faixasCredito[1])\n",
        "  elif (df.iloc[i][\"Vendas_Decimal\"]<=3400):\n",
        "    faixas.append(faixasCredito[2])\n",
        "  else:\n",
        "    faixas.append(faixasCredito[3])\n",
        "\n",
        "df[\"FaixasCredito\"]=faixas\n",
        "print(df[[\"cliente\",\"Vendas_Decimal\",\"FaixasCredito\"]])\n",
        "df1=df[[\"FaixasCredito\",\"tempodeatraso\"]]\n",
        "df1=df1[df[\"tempodeatraso\"]>0]\n",
        "df1=df1.sort_values(by=\"FaixasCredito\")\n",
        "gdf=df1[[\"FaixasCredito\",\"tempodeatraso\"]].groupby(\"FaixasCredito\").count().reset_index()\n",
        "print(gdf)\n",
        "eixoY=gdf[\"tempodeatraso\"]\n",
        "eixoX=gdf[\"FaixasCredito\"]\n",
        "plt.figure(figsize=(8,5))\n",
        "plt.bar(eixoX,eixoY)\n",
        "plt.show()"
      ]
    },
    {
      "cell_type": "code",
      "execution_count": 31,
      "metadata": {
        "id": "AEimUOsULdHK",
        "colab": {
          "base_uri": "https://localhost:8080/",
          "height": 406
        },
        "outputId": "4ace2161-c635-41dc-fb09-c093899ee189"
      },
      "outputs": [
        {
          "output_type": "display_data",
          "data": {
            "text/plain": [
              "<Figure size 640x480 with 1 Axes>"
            ],
            "image/png": "[encoded data removed]"
          },
          "metadata": {}
        }
      ],
      "source": [
        "plt.pie(eixoY,labels=eixoX,autopct=\"%1.2f%%\")\n",
        "plt.show()"
      ]
    },
    {
      "cell_type": "code",
      "execution_count": 32,
      "metadata": {
        "colab": {
          "base_uri": "https://localhost:8080/",
          "height": 534
        },
        "id": "EpYzRKWKRfQ8",
        "outputId": "9e907eb8-477e-4f25-be13-20147c1c7ad7"
      },
      "outputs": [
        {
          "output_type": "stream",
          "name": "stdout",
          "text": [
            "      FaixasIdade  Vendas_Decimal\n",
            "0        1-Até 21     4230.166667\n",
            "1  2-De 22 até 25     3095.810000\n",
            "2  3-De 26 Até 30     3177.482759\n",
            "3   4-Acima de 30     3208.179268\n"
          ]
        },
        {
          "output_type": "display_data",
          "data": {
            "text/plain": [
              "<Figure size 800x500 with 1 Axes>"
            ],
            "image/png": "[encoded data removed]"
          },
          "metadata": {}
        }
      ],
      "source": [
        "faixasIdade=[\"1-Até 21\",\"2-De 22 até 25\",\"3-De 26 Até 30\",\"4-Acima de 30\"]\n",
        "faixas=[]\n",
        "for i in range(len(df)):\n",
        "  if (df.iloc[i][\"idade\"]<=21):\n",
        "    faixas.append(faixasIdade[0])\n",
        "  elif (df.iloc[i][\"idade\"]<=25):\n",
        "    faixas.append(faixasIdade[1])\n",
        "  elif (df.iloc[i][\"idade\"]<=30):\n",
        "    faixas.append(faixasIdade[2])\n",
        "  else:\n",
        "    faixas.append(faixasIdade[3])\n",
        "\n",
        "df[\"FaixasIdade\"]=faixas\n",
        "df1=df[[\"FaixasIdade\",\"tempodeatraso\",\"Vendas_Decimal\"]]\n",
        "df1=df1.sort_values(by=\"FaixasIdade\")\n",
        "gdf=df1[[\"FaixasIdade\",\"Vendas_Decimal\"]].groupby(\"FaixasIdade\").mean().reset_index()\n",
        "print(gdf)\n",
        "eixoY=gdf[\"Vendas_Decimal\"]\n",
        "eixoX=gdf[\"FaixasIdade\"]\n",
        "plt.figure(figsize=(8,5))\n",
        "plt.bar(eixoX,eixoY)\n",
        "plt.show()"
      ]
    }
  ],
  "metadata": {
    "colab": {
      "provenance": [],
      "include_colab_link": true
    },
    "kernelspec": {
      "display_name": "Python 3 (ipykernel)",
      "language": "python",
      "name": "python3"
    },
    "language_info": {
      "codemirror_mode": {
        "name": "ipython",
        "version": 3
      },
      "file_extension": ".py",
      "mimetype": "text/x-python",
      "name": "python",
      "nbconvert_exporter": "python",
      "pygments_lexer": "ipython3",
      "version": "3.11.0"
    }
  },
  "nbformat": 4,
  "nbformat_minor": 0
}