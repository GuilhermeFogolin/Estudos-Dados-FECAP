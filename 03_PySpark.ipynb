{
  "cells": [
    {
      "cell_type": "markdown",
      "metadata": {
        "id": "view-in-github",
        "colab_type": "text"
      },
      "source": [
        "<a href=\"https://colab.research.google.com/github/GuilhermeFogolin/Estudos-Dados-FECAP/blob/main/03_PySpark.ipynb\" target=\"_parent\"><img src=\"https://colab.research.google.com/assets/colab-badge.svg\" alt=\"Open In Colab\"/></a>"
      ]
    },
    {
      "cell_type": "code",
      "source": [
        "!pip install pyspark"
      ],
      "metadata": {
        "id": "z0bBb7ag3NiG",
        "colab": {
          "base_uri": "https://localhost:8080/"
        },
        "outputId": "01979809-6970-41f3-be19-5b46f2016d14"
      },
      "id": "z0bBb7ag3NiG",
      "execution_count": 1,
      "outputs": [
        {
          "output_type": "stream",
          "name": "stdout",
          "text": [
            "Requirement already satisfied: pyspark in /usr/local/lib/python3.12/dist-packages (3.5.1)\n",
            "Requirement already satisfied: py4j==0.10.9.7 in /usr/local/lib/python3.12/dist-packages (from pyspark) (0.10.9.7)\n"
          ]
        }
      ]
    },
    {
      "cell_type": "code",
      "execution_count": 2,
      "id": "56e325e6-ae09-4451-a195-7bbb5fc61537",
      "metadata": {
        "tags": [],
        "id": "56e325e6-ae09-4451-a195-7bbb5fc61537"
      },
      "outputs": [],
      "source": [
        "import pyspark\n",
        "from pyspark.sql import SparkSession\n",
        "\n",
        "spark = SparkSession.builder.appName(\"HelloWorld\").getOrCreate()\n",
        "sc = spark.sparkContext\n"
      ]
    },
    {
      "cell_type": "code",
      "source": [
        "lista=[1,2,3,4]\n",
        "dobro=[]\n",
        "for i in range(len(lista)):\n",
        "  dobro.append(lista[i]*2)\n",
        "print(dobro)"
      ],
      "metadata": {
        "colab": {
          "base_uri": "https://localhost:8080/"
        },
        "id": "gISozg2bk5ao",
        "outputId": "77a099ee-fb31-418c-865d-abf3a5960cdc"
      },
      "id": "gISozg2bk5ao",
      "execution_count": 3,
      "outputs": [
        {
          "output_type": "stream",
          "name": "stdout",
          "text": [
            "[2, 4, 6, 8]\n"
          ]
        }
      ]
    },
    {
      "cell_type": "code",
      "source": [
        "lista=[65,66,67,68]\n",
        "nums = sc.parallelize(lista, 2) # Dois nós do Cluster\n",
        "mapping= nums.map(lambda x: chr(x)) # Função Python para converter número do caractere\n",
        "result=mapping.collect()\n",
        "print(result)"
      ],
      "metadata": {
        "colab": {
          "base_uri": "https://localhost:8080/"
        },
        "id": "bU-bKFhOxYs3",
        "outputId": "d410f748-e8ca-4a7c-cf17-9244a0d91f49"
      },
      "id": "bU-bKFhOxYs3",
      "execution_count": 4,
      "outputs": [
        {
          "output_type": "stream",
          "name": "stdout",
          "text": [
            "['A', 'B', 'C', 'D']\n"
          ]
        }
      ]
    },
    {
      "cell_type": "code",
      "source": [
        "media=[10,5,10,8,5,10]\n",
        "status=[]\n",
        "for i in range(len(media)):\n",
        "  if media[i]>=6:\n",
        "    status.append(\"APROVADO\")\n",
        "  else:\n",
        "    status.append(\"REPROVADO\")\n",
        "print(status)"
      ],
      "metadata": {
        "id": "mDUtlMSWnNVr"
      },
      "id": "mDUtlMSWnNVr",
      "execution_count": null,
      "outputs": []
    },
    {
      "cell_type": "code",
      "source": [
        "media=[10,5,10,8,5,20]\n",
        "nums = sc.parallelize(media,3)\n",
        "mapping=nums.map(lambda x:\"APROVADO\" if x>=6 else \"REPROVADO\")\n",
        "result=mapping.collect()\n",
        "print(result)"
      ],
      "metadata": {
        "id": "Ozy8eRDRFxmH"
      },
      "id": "Ozy8eRDRFxmH",
      "execution_count": null,
      "outputs": []
    },
    {
      "cell_type": "code",
      "source": [
        "numeros=[1,2,5,8,9,11,16,19,23]\n",
        "nums=sc.parallelize(numeros,2)\n",
        "mapping=nums.map(lambda x:\"PAR\" if x%2==0 else \"IMPAR\")\n",
        "result=mapping.collect()\n",
        "print(result)"
      ],
      "metadata": {
        "id": "69879wrqbybp"
      },
      "id": "69879wrqbybp",
      "execution_count": null,
      "outputs": []
    },
    {
      "cell_type": "code",
      "execution_count": null,
      "id": "2c313d8b-445f-471c-9661-c9a42e8c5e2e",
      "metadata": {
        "tags": [],
        "id": "2c313d8b-445f-471c-9661-c9a42e8c5e2e"
      },
      "outputs": [],
      "source": [
        "import pandas as pd\n",
        "def toDF(result):\n",
        "    lista=[]\n",
        "    for linha in result:\n",
        "        dict_aux = {}\n",
        "        dict_aux.update({\"palavra\": linha[0], \"qtde\": linha[1]})\n",
        "        lista.append(dict_aux)\n",
        "    df = pd.DataFrame(lista)\n",
        "    return df\n"
      ]
    },
    {
      "cell_type": "markdown",
      "id": "e882eed5-c18b-482f-bf32-991e36bd2346",
      "metadata": {
        "id": "e882eed5-c18b-482f-bf32-991e36bd2346"
      },
      "source": [
        "EXEMPLO 1 DE MAP REDUCE"
      ]
    },
    {
      "cell_type": "code",
      "execution_count": null,
      "id": "2937eb12-c573-4674-9e55-96ca054bdf25",
      "metadata": {
        "tags": [],
        "id": "2937eb12-c573-4674-9e55-96ca054bdf25"
      },
      "outputs": [],
      "source": [
        "#dados=[\"Bear\",\"Bear\",\"Car\",\"Car\",\"Car\",\"Deer\",\"Deer\",\"River\",\"River\"]\n",
        "dados=[\"B\",\"B\",\"C\",\"C\",\"C\",\"D\",\"D\",\"R\",\"R\"]\n",
        "\n",
        "input_file=sc.parallelize(dados,3)\n",
        "mapping = input_file.map(lambda word:(word, 1))\n",
        "print(mapping.collect())\n",
        "count=mapping.reduceByKey(lambda a, b: a + b)\n",
        "result=count.collect()\n",
        "print(result)\n",
        "df=toDF(result)\n",
        "print(df)\n",
        "\n",
        "#sc.stop()"
      ]
    },
    {
      "cell_type": "code",
      "source": [
        "import matplotlib.pyplot as plt\n",
        "#plt.bar(df[\"palavra\"],df[\"qtde\"])\n",
        "plt.pie(df[\"qtde\"],labels=df[\"palavra\"])\n",
        "plt.show()"
      ],
      "metadata": {
        "id": "kMkQXRBhKc49"
      },
      "id": "kMkQXRBhKc49",
      "execution_count": null,
      "outputs": []
    },
    {
      "cell_type": "markdown",
      "id": "e8833401-df09-48f0-a125-d98125b17f93",
      "metadata": {
        "id": "e8833401-df09-48f0-a125-d98125b17f93"
      },
      "source": [
        "EXEMPLO 2 DE MAP REDUCE"
      ]
    },
    {
      "cell_type": "code",
      "execution_count": null,
      "id": "214a1673-a515-47a5-a66a-3f421cde7842",
      "metadata": {
        "tags": [],
        "id": "214a1673-a515-47a5-a66a-3f421cde7842"
      },
      "outputs": [],
      "source": [
        "dados=[\"B\",\"B\",\"B\",\"C\",\"C\",\"C\",\"D\",\"D D\"]\n",
        "item=[\"B\",\"D\"]\n",
        "input_file=sc.parallelize(dados,3)\n",
        "counts = (input_file.map(lambda word:(word, 1) if (word in item) else (word,0))\n",
        "                     .reduceByKey(lambda a, b: a + b))\n",
        "\n",
        "result=counts.collect()\n",
        "print(result)\n",
        "df=toDF(result)\n",
        "df.query(\"qtde>0\")\n"
      ]
    },
    {
      "cell_type": "markdown",
      "source": [
        "ENTENDENDO CÁLCULO LAMBDA <BR>\n",
        "\n",
        "De maneira geral uma função lambda em Python é escrita da forma\n",
        "\n",
        "**lambda** argumentos : expressão\n"
      ],
      "metadata": {
        "id": "0jVV2ksmZTjY"
      },
      "id": "0jVV2ksmZTjY"
    },
    {
      "cell_type": "code",
      "source": [
        "def f3(x):\n",
        "  result=x+1\n",
        "  return result\n",
        "\n",
        "f1=lambda x:x+1\n",
        "\n",
        "print(\"f3=\",f3(10))\n",
        "print(\"f1=\",f1(10))\n"
      ],
      "metadata": {
        "id": "ovXF7zSlZnVq"
      },
      "id": "ovXF7zSlZnVq",
      "execution_count": null,
      "outputs": []
    },
    {
      "cell_type": "code",
      "source": [
        "f2=lambda x,y:x+y\n",
        "print(f2(3,5))"
      ],
      "metadata": {
        "id": "zl1QC9v_Zz6u"
      },
      "id": "zl1QC9v_Zz6u",
      "execution_count": null,
      "outputs": []
    },
    {
      "cell_type": "code",
      "source": [
        "def febre2(tmp):\n",
        "  status=\"\"\n",
        "  if tmp<37:\n",
        "    status=\"NORMAL\"\n",
        "  elif tmp<38:\n",
        "    status=\"FEBRIL\"\n",
        "  else:\n",
        "    status=\"FEBRE\"\n",
        "  return status\n",
        "\n",
        "febre=lambda tmp:\"NORMAL\" if tmp<37 else \"FEBRIL\" if tmp<38 else \"FEBRE\"\n",
        "\n",
        "print(\"Função\")\n",
        "print(febre2(32))\n",
        "print(febre2(37.8))\n",
        "print(febre2(39))\n",
        "print(\"Lambda\")\n",
        "print(febre(32))\n",
        "print(febre(37.8))\n",
        "print(febre(39))"
      ],
      "metadata": {
        "id": "rSdUJmHlWWeq"
      },
      "id": "rSdUJmHlWWeq",
      "execution_count": null,
      "outputs": []
    },
    {
      "cell_type": "code",
      "source": [
        "par=lambda x:\"PAR\" if x%2==0 else \"IMPAR\"\n",
        "print(par(2))\n",
        "print(par(25))"
      ],
      "metadata": {
        "id": "Vw3KqGAKVnSR"
      },
      "id": "Vw3KqGAKVnSR",
      "execution_count": null,
      "outputs": []
    },
    {
      "cell_type": "code",
      "source": [
        "IMC=lambda peso,altura:peso/(altura*altura) if altura>0 and altura<2.5 else \"ERRO NA ALTURA\"\n",
        "\n",
        "print(IMC(87,1.85))\n",
        "print(IMC(57,1.65))\n",
        "print(IMC(57, 0))"
      ],
      "metadata": {
        "id": "4kuD--e0XqkB"
      },
      "id": "4kuD--e0XqkB",
      "execution_count": null,
      "outputs": []
    },
    {
      "cell_type": "code",
      "source": [
        "#SE IMC<20 ABAIXO DO PESO\n",
        "#SE IMC>=20 e <25 NORMAL\n",
        "#SE IMC>=25 OBESO"
      ],
      "metadata": {
        "id": "b1-oHkBL0cp2"
      },
      "id": "b1-oHkBL0cp2",
      "execution_count": null,
      "outputs": []
    },
    {
      "cell_type": "code",
      "source": [
        "Status=lambda imc:\"ABAIXO DO PESO\" if imc<20 else \"NORMAL\" if imc<25 else \"OBESO\"\n",
        "imc=IMC(150,1.85)\n",
        "print(imc)\n",
        "print(Status(imc))\n",
        "imc=IMC(87,1.85)\n",
        "print(imc)\n",
        "print(Status(imc))\n",
        "imc=IMC(60,1.85)\n",
        "print(imc)\n",
        "print(Status(imc))"
      ],
      "metadata": {
        "id": "hN962LhE7w_e"
      },
      "id": "hN962LhE7w_e",
      "execution_count": null,
      "outputs": []
    },
    {
      "cell_type": "code",
      "source": [
        "f1=lambda x:x*2\n",
        "\n",
        "lista=[1,2,3,4,5,6]\n",
        "dobro=[]\n",
        "for n in lista:\n",
        "  dobro.append(f1(n))\n",
        "\n",
        "print(dobro)"
      ],
      "metadata": {
        "id": "CdL6cPkbYzCJ"
      },
      "id": "CdL6cPkbYzCJ",
      "execution_count": null,
      "outputs": []
    },
    {
      "cell_type": "code",
      "source": [
        "lista=[1,2,3,4,5,6]\n",
        "mapping=map(lambda x:f1(x), lista)\n",
        "dobro=list(mapping)\n",
        "print(dobro)"
      ],
      "metadata": {
        "id": "25i6Bm4Ga5Nj"
      },
      "id": "25i6Bm4Ga5Nj",
      "execution_count": null,
      "outputs": []
    },
    {
      "cell_type": "code",
      "source": [
        "lista=[10,5,7,8,4,6,1]\n",
        "mapping=map(lambda nota:\"APROVADO\" if nota>=6 else \"EXAME\" if nota>=4 else \"REPROVADO\", lista)\n",
        "dobro=list(mapping)\n",
        "print(dobro)"
      ],
      "metadata": {
        "id": "Il7XmuqyRY2j"
      },
      "id": "Il7XmuqyRY2j",
      "execution_count": null,
      "outputs": []
    },
    {
      "cell_type": "code",
      "source": [
        "Status=lambda nota:\"APROVADO\" if nota>=6 else \"EXAME\" if nota>=4 else \"REPROVADO\"\n",
        "lista=[10,5,7,8,4,6,1]\n",
        "mapping=map(lambda nota:Status(nota) , lista)\n",
        "dobro=list(mapping)\n",
        "print(dobro)"
      ],
      "metadata": {
        "id": "5qrL9LxQUvyu"
      },
      "id": "5qrL9LxQUvyu",
      "execution_count": null,
      "outputs": []
    },
    {
      "cell_type": "code",
      "source": [
        "lista=[1,2,3,4,5,6]\n",
        "filtro=filter(lambda x:x>2, lista)\n",
        "maior=list(filtro)\n",
        "print(maior)"
      ],
      "metadata": {
        "id": "qQjgHsKlbW4D"
      },
      "id": "qQjgHsKlbW4D",
      "execution_count": null,
      "outputs": []
    },
    {
      "cell_type": "code",
      "source": [
        "notas=[10,5,7,8,4,6,1]\n",
        "aprovados=list(filter(lambda x:x>=6,notas))\n",
        "print(aprovados)"
      ],
      "metadata": {
        "id": "Ftub_YQNDS92"
      },
      "id": "Ftub_YQNDS92",
      "execution_count": null,
      "outputs": []
    },
    {
      "cell_type": "code",
      "source": [
        "x=-190\n",
        "print(abs(x))"
      ],
      "metadata": {
        "id": "QO7DkD7LbuQQ"
      },
      "id": "QO7DkD7LbuQQ",
      "execution_count": null,
      "outputs": []
    },
    {
      "cell_type": "code",
      "source": [
        "\n",
        "z=map(lambda x:abs(x), [-1, -2, -3,-10])\n",
        "print(list(z))\n"
      ],
      "metadata": {
        "id": "u7PenGhReK3P"
      },
      "id": "u7PenGhReK3P",
      "execution_count": null,
      "outputs": []
    },
    {
      "cell_type": "code",
      "source": [
        "z=map(str, [-1, -2, -3])\n",
        "for i in z:\n",
        "  print(i+\"X\")"
      ],
      "metadata": {
        "id": "Dh1mIuEnefFd"
      },
      "id": "Dh1mIuEnefFd",
      "execution_count": null,
      "outputs": []
    },
    {
      "cell_type": "code",
      "source": [
        "z=map(lambda x:x*2, [10, 20, 30])\n",
        "for i in z:\n",
        "  print(i)"
      ],
      "metadata": {
        "id": "5c88fTqregaO"
      },
      "id": "5c88fTqregaO",
      "execution_count": null,
      "outputs": []
    },
    {
      "cell_type": "code",
      "source": [
        "def dobro(x):\n",
        "  return x*2\n",
        "\n",
        "z=(map(dobro, [10, 20, 30]))\n",
        "print(z)\n",
        "#for i in z:\n",
        "#  print(i)\n",
        "\n",
        "listaZ=list(z)\n",
        "print(listaZ)"
      ],
      "metadata": {
        "id": "E6NT5zetcmHC"
      },
      "id": "E6NT5zetcmHC",
      "execution_count": null,
      "outputs": []
    },
    {
      "cell_type": "code",
      "source": [
        "from functools import reduce\n",
        "lista=[1, 2, 3, 4, 5, 6, 7, 8, 9, 15]\n",
        "soma=list(map(lambda x: x+1, lista))\n",
        "print(soma)\n",
        "\n",
        "soma2=(reduce(lambda y,x: y+x, soma))\n",
        "print(soma2)\n"
      ],
      "metadata": {
        "id": "E2ErmUYId_wv"
      },
      "id": "E2ErmUYId_wv",
      "execution_count": null,
      "outputs": []
    },
    {
      "cell_type": "code",
      "source": [
        "from functools import reduce\n",
        "lista=[1, 2, 3, 4, 5, 6, 7, 18, 9, 10]\n",
        "maior=reduce(lambda x,y: x if x>y else y, lista)\n",
        "print(maior)"
      ],
      "metadata": {
        "id": "w7_ZvKPKdL53"
      },
      "id": "w7_ZvKPKdL53",
      "execution_count": null,
      "outputs": []
    },
    {
      "cell_type": "markdown",
      "source": [],
      "metadata": {
        "id": "-uIjjE-9G59J"
      },
      "id": "-uIjjE-9G59J"
    },
    {
      "cell_type": "code",
      "source": [
        "from functools import reduce\n",
        "lista=[10, 25, 30, 40, 50, 60, 75, 80, 91, 100]\n",
        "conta=list(map(lambda x:x%2, lista))\n",
        "print(conta)\n",
        "soma=reduce(lambda x,y:x+y, lista)\n",
        "print(soma)"
      ],
      "metadata": {
        "id": "2yBtFa6Ufjfm"
      },
      "id": "2yBtFa6Ufjfm",
      "execution_count": null,
      "outputs": []
    },
    {
      "cell_type": "code",
      "source": [
        "from functools import reduce\n",
        "lista=[1, 2, 3, 4, 5, 6, 7, 8, 9, 10]\n",
        "par=reduce(lambda x,y: x+1 if y%2 ==0 else x+0, lista)\n",
        "print(par)"
      ],
      "metadata": {
        "id": "AotsEfmmfzKw"
      },
      "id": "AotsEfmmfzKw",
      "execution_count": null,
      "outputs": []
    },
    {
      "cell_type": "code",
      "source": [
        "def par(num):\n",
        "  ok=False\n",
        "  if num%3==0:\n",
        "    ok=True\n",
        "  if num%5==0:\n",
        "    ok=True\n",
        "  return (ok)\n",
        "\n",
        "lista=[0, 1, 2, 3, 4, 5, 6, 7, 8, 9, 10]\n",
        "par=reduce(lambda x,y: x+1 if par(y) else x+0, lista)\n",
        "print(par)"
      ],
      "metadata": {
        "id": "0IEk7N898qIq"
      },
      "id": "0IEk7N898qIq",
      "execution_count": null,
      "outputs": []
    },
    {
      "cell_type": "markdown",
      "source": [
        "VOLTANDO UTILIZAR SPARK"
      ],
      "metadata": {
        "id": "8SyvQQOBZDup"
      },
      "id": "8SyvQQOBZDup"
    },
    {
      "cell_type": "code",
      "source": [
        "lista=[0, 1, 2, 3, 4, 5, 6, 7, 8, 9, 10]\n",
        "quadrado=list(map(lambda x: x**2,lista))\n",
        "print(quadrado)"
      ],
      "metadata": {
        "id": "EMurn1G7hHs0"
      },
      "id": "EMurn1G7hHs0",
      "execution_count": null,
      "outputs": []
    },
    {
      "cell_type": "code",
      "source": [
        "lista=[0, 1, 2, 3, 4, 5, 6, 7, 8, 9, 10]\n",
        "nums = sc.parallelize(lista,2)\n",
        "quadrado=nums.map(lambda x: x**2).collect()\n",
        "print(quadrado)"
      ],
      "metadata": {
        "id": "i8zRxVyzi8BY"
      },
      "id": "i8zRxVyzi8BY",
      "execution_count": null,
      "outputs": []
    },
    {
      "cell_type": "code",
      "source": [
        "dados=[\"B C D\",\"B C D\",\"B C\",\"C B\",\"D C B\",\"C\",\"D\"]\n",
        "input_file=sc.parallelize(dados,3)\n",
        "mapping = input_file.map(lambda word:(word, 1))\n",
        "print(mapping.collect())\n",
        "count=mapping.reduceByKey(lambda a, b: a + b)\n",
        "result=count.collect()\n",
        "print(result)\n",
        "#df=toDF(result)\n",
        "#print(df)"
      ],
      "metadata": {
        "id": "YmDXhGP-8WzK"
      },
      "id": "YmDXhGP-8WzK",
      "execution_count": null,
      "outputs": []
    },
    {
      "cell_type": "code",
      "execution_count": null,
      "id": "bac57e08-1e66-4095-bfe3-fc8c45592bce",
      "metadata": {
        "tags": [],
        "id": "bac57e08-1e66-4095-bfe3-fc8c45592bce"
      },
      "outputs": [],
      "source": [
        "def func(w,lista):\n",
        "    ok=False\n",
        "    for i in lista:\n",
        "        if i in w:\n",
        "            ok=True\n",
        "            break\n",
        "    return ok\n",
        "\n",
        "dados=[\"B C D\",\"B C D\",\"B C\",\"C B\",\"D C B\",\"C\",\"D\"]\n",
        "item=[\"B C\",\"D C\"]\n",
        "input_file=sc.parallelize(dados,3)\n",
        "mapping = input_file.map(lambda word:(word, 1) if (func(word,item)) else (word,0)) #\\\n",
        "                     #.reduceByKey(lambda a, b: a + b)\n",
        "print(mapping.collect())\n",
        "counts=mapping.reduceByKey(lambda a, b: a + b)\n",
        "result=counts.collect()\n",
        "print(result)\n",
        "df=toDF(result)\n",
        "dfaux=df.query(\"qtde>0\")\n",
        "dfaux"
      ]
    },
    {
      "cell_type": "code",
      "execution_count": null,
      "id": "4575d72f-2355-467f-a3c4-d1209dd04729",
      "metadata": {
        "tags": [],
        "id": "4575d72f-2355-467f-a3c4-d1209dd04729"
      },
      "outputs": [],
      "source": [
        "def func(w,item):\n",
        "    result=\"\"\n",
        "    print(w,\"-\",item)\n",
        "    for i in item:\n",
        "        if i in w:\n",
        "            result=i\n",
        "            break\n",
        "    print(result)\n",
        "    return result\n",
        "\n",
        "dados=[\"ANA MARIA\",\"ANA CLARA\",\"MARIA MARCIA\",\"JOÃO PEDRO\",\"JOÃO CARLOS\",\"CARLOS EDU\",\"DANIEL\"]\n",
        "item=[\"JOÃO\",\"MARIA\"]\n",
        "for w in dados:\n",
        "  func(w,item)\n",
        "input_file=sc.parallelize(dados,3)\n",
        "mapping = input_file.map(lambda word:(func(word,item),1)\\\n",
        "                        if func(word,item)!=\"\" else (word,0) )\n",
        "                     #.reduceByKey(lambda a, b: a + b)\n",
        "print(mapping.collect())\n",
        "counts=mapping.reduceByKey(lambda a, b: a + b)\n",
        "result=counts.collect()\n",
        "print(result)\n",
        "df=toDF(result)\n",
        "dfaux=df.query(\"qtde>0\")\n",
        "dfaux"
      ]
    },
    {
      "cell_type": "code",
      "execution_count": null,
      "id": "8515b7f0-089a-495d-bf3c-e13f3068f1fb",
      "metadata": {
        "tags": [],
        "id": "8515b7f0-089a-495d-bf3c-e13f3068f1fb"
      },
      "outputs": [],
      "source": [
        "import requests\n",
        "\n",
        "response = requests.get(\"https://www.uol.com.br/esporte/futebol/ultimas-noticias/2023/10/25/palmeiras-x-sao-paulo-brasileirao-rodada-29.htm\")\n",
        "print(response.text)"
      ]
    },
    {
      "cell_type": "markdown",
      "id": "3da219d3-29b4-4a84-b738-d05f52723fa8",
      "metadata": {
        "id": "3da219d3-29b4-4a84-b738-d05f52723fa8"
      },
      "source": [
        "LIMPA O TEXTO REMOVENDO TODO HTML"
      ]
    },
    {
      "cell_type": "code",
      "execution_count": null,
      "id": "f3eccac3-2da2-4cc4-a74d-0f4dc4ced6a9",
      "metadata": {
        "tags": [],
        "id": "f3eccac3-2da2-4cc4-a74d-0f4dc4ced6a9"
      },
      "outputs": [],
      "source": [
        "from bs4 import BeautifulSoup as bs\n",
        "\n",
        "soup = bs(response.text, 'html.parser')\n",
        "texto = soup.get_text()\n",
        "print(texto)\n"
      ]
    },
    {
      "cell_type": "code",
      "execution_count": null,
      "id": "87178c32-c42d-4378-8b64-9a118070e60d",
      "metadata": {
        "tags": [],
        "id": "87178c32-c42d-4378-8b64-9a118070e60d"
      },
      "outputs": [],
      "source": [
        "input_file=sc.parallelize(response,4)\n",
        "flat=input_file.flatMap(lambda line: line.split())\n",
        "print(flat.collect())\n",
        "mapping=flat.map(lambda word: (word, 1))\n",
        "print(mapping.collect())\n",
        "counts=mapping.reduceByKey(lambda a, b: a + b)\n",
        "#counts = input_file.flatMap(lambda line: line.split()) \\\n",
        "#                     .map(lambda word: (word, 1)) \\\n",
        "#                     .reduceByKey(lambda a, b: a + b)\n",
        "\n",
        "result=counts.collect()\n",
        "print(result)\n",
        "df=toDF(result)\n",
        "df\n"
      ]
    },
    {
      "cell_type": "code",
      "source": [
        "!pip install nltk"
      ],
      "metadata": {
        "id": "pon4R0SH4nzM"
      },
      "id": "pon4R0SH4nzM",
      "execution_count": null,
      "outputs": []
    },
    {
      "cell_type": "code",
      "source": [
        "import nltk\n",
        "from nltk.corpus import stopwords\n",
        "nltk.download('stopwords')\n",
        "print(stopwords.words('portuguese'))"
      ],
      "metadata": {
        "id": "vKihcgd04-Y9"
      },
      "id": "vKihcgd04-Y9",
      "execution_count": null,
      "outputs": []
    },
    {
      "cell_type": "code",
      "execution_count": null,
      "id": "b21af507-27dd-4551-b067-db2fb6d391bd",
      "metadata": {
        "tags": [],
        "id": "b21af507-27dd-4551-b067-db2fb6d391bd"
      },
      "outputs": [],
      "source": [
        "termosExcluir=[\"em\",\"do\",\"faz\",\"x\",\"se\",\"de\",\"para\",\"um\",\"dois\",\".\",\"!\",\"-\", \"que\",\",\",\"'\",\",\",\"\\\\n\",\"\\n\", \"e\", \"a\", \"o\",\"uol\",\"da\",\"sempre\"]\n",
        "stop = set(stopwords.words('portuguese'))\n",
        "stopAll = stop.union(termosExcluir)\n",
        "print(stopAll)\n",
        "\n",
        "input_file=sc.parallelize(texto.upper().split(),3)\n",
        "filtro=input_file.filter(lambda palavra: palavra.lower() not in stopAll)\n",
        "print(filtro.collect())\n",
        "mapping=filtro.map(lambda word: (word, 1))\n",
        "print(mapping.collect())\n",
        "counts =mapping.reduceByKey(lambda a, b: a + b)\n",
        "result=counts.collect()\n",
        "print(result)\n",
        "df=toDF(result)\n",
        "dfaux=df.query(\"qtde>=5\")\n",
        "dfaux.sort_values(by=\"qtde\",ascending=False)"
      ]
    },
    {
      "cell_type": "code",
      "source": [
        "response = requests.get(\"https://www.uol.com.br/esporte/futebol/ultimas-noticias/2023/10/25/palmeiras-x-sao-paulo-brasileirao-rodada-29.htm\")\n",
        "print(response.text)\n",
        "\n",
        "soup = bs(response.text, 'html.parser')\n",
        "texto = soup.get_text()\n",
        "\n",
        "myWords=['palmeiras','santos','corinthians','são','paulo','mundial']\n",
        "stopAll = myWords\n",
        "print(stopAll)\n",
        "input_file=sc.parallelize(texto.upper().split(),3)\n",
        "filtro=input_file.filter(lambda palavra: palavra.lower() in stopAll)\n",
        "print(filtro.collect())\n",
        "mapping= filtro.map(lambda word: (word, 1))\n",
        "print(mapping.collect())\n",
        "counts=mapping.reduceByKey(lambda a, b: a + b)\n",
        "result=counts.collect()\n",
        "print(result)\n",
        "df=toDF(result)\n",
        "print(df)\n",
        "dfaux=df.query(\"qtde>1\")\n",
        "dfaux.sort_values(by=\"qtde\",ascending=False)"
      ],
      "metadata": {
        "id": "9BsBkXM4_Mw6"
      },
      "id": "9BsBkXM4_Mw6",
      "execution_count": null,
      "outputs": []
    },
    {
      "cell_type": "markdown",
      "source": [
        "EXERCICIO RESOLVIDO\n",
        "SELECIONE UMA PÁGINA QUALQUER, ESCOLHA ALGUMAS PALAVRAS QUE DEVEM INDICAR A RELEVÂNCOA DA PÁGINA E CONTE ESSAS PALAVRAS"
      ],
      "metadata": {
        "id": "rBQHGi2ERqEQ"
      },
      "id": "rBQHGi2ERqEQ"
    },
    {
      "cell_type": "code",
      "source": [
        "response =requests.get(\"https://www.ibm.com/br-pt/think/topics/machine-learning\")\n",
        "\n",
        "\n",
        "soup = bs(response.text, 'html.parser')\n",
        "texto = soup.get_text()\n",
        "\n",
        "myWords=['matemática','lógica','estatística','algoritmo','algoritmos','máquina']\n",
        "stopAll = myWords\n",
        "print(stopAll)\n",
        "input_file=sc.parallelize(texto.upper().split(),3)\n",
        "filtro=input_file.filter(lambda palavra: palavra.lower() in stopAll)\n",
        "print(filtro.collect())\n",
        "mapping= filtro.map(lambda word: (word, 1))\n",
        "print(mapping.collect())\n",
        "counts=mapping.reduceByKey(lambda a, b: a + b)\n",
        "result=counts.collect()\n",
        "print(result)\n",
        "df=toDF(result)\n",
        "print(df)\n",
        "dfaux=df.query(\"qtde>1\")\n",
        "dfaux.sort_values(by=\"qtde\",ascending=False)"
      ],
      "metadata": {
        "id": "XAViKdlORpCI"
      },
      "id": "XAViKdlORpCI",
      "execution_count": null,
      "outputs": []
    },
    {
      "cell_type": "code",
      "execution_count": null,
      "id": "0f51cc70-05d9-4977-888e-5981d41addae",
      "metadata": {
        "tags": [],
        "id": "0f51cc70-05d9-4977-888e-5981d41addae"
      },
      "outputs": [],
      "source": [
        "termosExcluir=[\"de\",\"para\",\"um\",\"dois\",\".\",\"!\",\"-\", \"que\",\",\",\"'\",\",\",\"\\\\n\",\"\\n\", \"e\", \"a\", \"o\"]\n",
        "\n",
        "stop = set(stopwords.words('portuguese'))\n",
        "stopAll = stop.union(termosExcluir)\n",
        "print(stopAll)\n",
        "input_file=sc.parallelize(texto.upper().split(),3) \\\n",
        "              .filter(lambda palavra: palavra.lower() not in termosExcluir)\n",
        "\n",
        "counts = input_file.map(lambda word: (word, 1)) \\\n",
        "                   .reduceByKey(lambda a, b: a + b)\n",
        "result=counts.collect()\n",
        "#print(result)\n",
        "df=toDF(result)\n",
        "dfaux=df.query(\"qtde>5\")\n",
        "dfaux.sort_values(by=\"qtde\",ascending=False)"
      ]
    },
    {
      "cell_type": "markdown",
      "id": "4d09d0c7-c27f-4732-a6ce-985c46bee8fe",
      "metadata": {
        "id": "4d09d0c7-c27f-4732-a6ce-985c46bee8fe"
      },
      "source": [
        "A FUNÇÃO ABAIXO PRETENDE CONTAR APENAS TERMOS ESPECÍFICOS COMO \"ANDERSON TORRES\" e \"ALEXANDRE DE MORAES\".\n",
        "HÁ UM ERRO NESSA SOLUÇÃO, TENTE IDENTIFICAR O ERRO E ENCONTRAR UMA SOLUÇÃO!!!!"
      ]
    },
    {
      "cell_type": "code",
      "execution_count": null,
      "id": "3d32f06b-8aed-412d-8555-b23f48e0c305",
      "metadata": {
        "tags": [],
        "id": "3d32f06b-8aed-412d-8555-b23f48e0c305"
      },
      "outputs": [],
      "source": [
        "from bs4 import BeautifulSoup as bs\n",
        "\n",
        "def func(w,itens):\n",
        "    result=\"\"\n",
        "    for i in itens:\n",
        "        if i in w:\n",
        "            result=i\n",
        "            break\n",
        "    return result\n",
        "url=\"https://www.uol.com.br/esporte/futebol/ultimas-noticias/2025/09/22/a-tabela-mais-tranquila-e-a-do-palmeiras-diz-juca-kfouri.htm\"\n",
        "\n",
        "response =requests.get(url)\n",
        "\n",
        "\n",
        "soup = bs(response.text, 'html.parser')\n",
        "parag = soup.find_all('p')\n",
        "link=soup.find_all('a')\n",
        "#tagDiv=soup.find_all('div')\n",
        "\n",
        "linhas=[]\n",
        "for i in range(len(parag)):\n",
        "    linhas.append(parag[i].text.upper())\n",
        "\n",
        "for i in range(len(link)):\n",
        "    linhas.append(link[i].text.upper())\n",
        "\n",
        "#for i in range(len(tagDiv)):\n",
        "#    linhas.append(tagDiv[i].text.upper())\n",
        "\n",
        "print(linhas)\n",
        "\n",
        "\n",
        "itens=[\"PALMEIRAS\",\"SÃO PAULO\",\"CORINTHIANS\",\"SANTOS\",\"BRAGANTINO\"]\n",
        "\n",
        "input_file=sc.parallelize(linhas,3)\n",
        "\n",
        "flat=input_file.flatMap(lambda line:line.split(\",\"))\n",
        "print(flat.collect())\n",
        "mapping=flat.map(lambda word:(func(word,itens),1) if func(word,itens)!=\"\" else (word,0) )\n",
        "print(mapping.collect())\n",
        "counts=mapping.reduceByKey(lambda a, b: a + b)\n",
        "#counts = input_file.flatMap(lambda line:line.split(\",\")) \\\n",
        "#                   .map(lambda word:(func(word,itens),1) if func(word,itens)!=\"\" else (word,0) )\\\n",
        "#                   .reduceByKey(lambda a, b: a + b)\n",
        "\n",
        "result=counts.collect()\n",
        "print(result)\n",
        "df=toDF(result)\n",
        "print(df)\n",
        "dfaux=df.query(\"qtde>0\")\n",
        "dfaux"
      ]
    },
    {
      "cell_type": "code",
      "execution_count": null,
      "id": "3cf691ea-1236-46f4-8f75-93138d0df66f",
      "metadata": {
        "id": "3cf691ea-1236-46f4-8f75-93138d0df66f"
      },
      "outputs": [],
      "source": [
        "lista=[\"https://www.uol.com.br/esporte/futebol/ultimas-noticias/2025/04/03/abel-cobra-agressividade-no-palmeiras-apos-susto-na-estreia-da-libertadores.htm\",\n",
        "       \"https://www.uol.com.br/esporte/futebol/ultimas-noticias/gazeta-esportiva/2025/04/01/afastado-marcelo-mariano-trabalha-para-o-corinthians-em-final-e-explica-sempre-pronto-para-ajudar.htm\",\n",
        "       ]\n",
        "\n",
        "\n",
        "linhas=[]\n",
        "for pag in lista:\n",
        "  response =requests.get(pag)\n",
        "  soup = bs(response.text, 'html.parser')\n",
        "  texto = soup.get_text()\n",
        "  soup = bs(response.text, 'html.parser')\n",
        "  parag = soup.find_all('p')\n",
        "  link=soup.find_all('a')\n",
        "  for i in range(len(parag)):\n",
        "    linhas.append(parag[i].text.upper())\n",
        "  for i in range(len(link)):\n",
        "    linhas.append(link[i].text.upper())\n",
        "\n",
        "itens=[\"PALMEIRAS\",\"SÃO PAULO\",\"CORINTHIANS\",\"SANTOS\",\"BRAGANTINO\"]\n",
        "\n",
        "input_file=sc.parallelize(linhas,3)\n",
        "\n",
        "flat=input_file.flatMap(lambda line:line.split(\",\"))\n",
        "#print(flat.collect())\n",
        "mapping=flat.map(lambda word:(func(word,itens),1) if func(word,itens)!=\"\" else (word,0) )\n",
        "#print(mapping.collect())\n",
        "counts=mapping.reduceByKey(lambda a, b: a + b)\n",
        "#counts = input_file.flatMap(lambda line:line.split(\",\")) \\\n",
        "#                   .map(lambda word:(func(word,itens),1) if func(word,itens)!=\"\" else (word,0) )\\\n",
        "#                   .reduceByKey(lambda a, b: a + b)\n",
        "\n",
        "result=counts.collect()\n",
        "print(result)\n",
        "df=toDF(result)\n",
        "print(df)\n",
        "dfaux=df.query(\"qtde>0\")\n",
        "dfaux"
      ]
    },
    {
      "cell_type": "code",
      "source": [
        "f=lambda x:x if x>0 else -x\n",
        "\n",
        "print(f(-10))\n"
      ],
      "metadata": {
        "id": "8-Vte0MbQB9N"
      },
      "id": "8-Vte0MbQB9N",
      "execution_count": null,
      "outputs": []
    },
    {
      "cell_type": "code",
      "source": [
        "q3=lambda x:x>6\n",
        "lista=[10,10,2,5,6,4,7]\n",
        "saida1=list(map(lambda x:q3(x), lista))\n",
        "print(saida1)\n",
        "saida1=list(filter(lambda x:q3(x), lista))\n",
        "print(saida1)\n",
        "\n",
        "\n",
        "\n"
      ],
      "metadata": {
        "id": "6itLqzO7Q5lE"
      },
      "id": "6itLqzO7Q5lE",
      "execution_count": null,
      "outputs": []
    },
    {
      "cell_type": "code",
      "source": [
        "q4=lambda nota:\"APROVADO\" if nota>=6 else \"EXAME 6\" if nota>=4 \\\n",
        "                                     else\"EXAME 7\" if nota>=2 \\\n",
        "                                     else \"REPROVADO\"\n",
        "print(q4(7))\n",
        "print(q4(4.5))\n",
        "print(q4(3.5))\n",
        "print(q4(1.9))"
      ],
      "metadata": {
        "id": "edRhqIpUSud9"
      },
      "id": "edRhqIpUSud9",
      "execution_count": null,
      "outputs": []
    }
  ],
  "metadata": {
    "kernelspec": {
      "display_name": "Python 3 (ipykernel)",
      "language": "python",
      "name": "python3"
    },
    "language_info": {
      "codemirror_mode": {
        "name": "ipython",
        "version": 3
      },
      "file_extension": ".py",
      "mimetype": "text/x-python",
      "name": "python",
      "nbconvert_exporter": "python",
      "pygments_lexer": "ipython3",
      "version": "3.11.0"
    },
    "colab": {
      "provenance": [],
      "include_colab_link": true
    }
  },
  "nbformat": 4,
  "nbformat_minor": 5
}