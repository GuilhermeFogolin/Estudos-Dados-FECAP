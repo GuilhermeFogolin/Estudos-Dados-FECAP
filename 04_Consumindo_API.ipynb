{
  "nbformat": 4,
  "nbformat_minor": 0,
  "metadata": {
    "colab": {
      "provenance": [],
      "include_colab_link": true
    },
    "kernelspec": {
      "name": "python3",
      "display_name": "Python 3"
    },
    "language_info": {
      "name": "python"
    }
  },
  "cells": [
    {
      "cell_type": "markdown",
      "metadata": {
        "id": "view-in-github",
        "colab_type": "text"
      },
      "source": [
        "<a href=\"https://colab.research.google.com/github/GuilhermeFogolin/Estudos-Dados-FECAP/blob/main/04_Consumindo_API.ipynb\" target=\"_parent\"><img src=\"https://colab.research.google.com/assets/colab-badge.svg\" alt=\"Open In Colab\"/></a>"
      ]
    },
    {
      "cell_type": "code",
      "execution_count": null,
      "metadata": {
        "id": "8GXyM6bI-CS4"
      },
      "outputs": [],
      "source": [
        "import requests\n",
        "\n",
        "url='https://www.uol.com.br'\n",
        "\n",
        "dados = requests.get(url)\n",
        "print(dados.status_code)\n",
        "dados.content"
      ]
    },
    {
      "cell_type": "code",
      "source": [
        "import requests\n",
        "url='https://bloomberg-market-and-financial-news.p.rapidapi.com/market/get-movers'\n",
        "dados = requests.get(url,params= {\"id\": 'nky:ind', \"template\": 'INDEX'}, headers= {\n",
        "    'X-RapidAPI-Key': '7395c74fcdmshc55eca2cd2c9a8cp1901a1jsn9d93900b7993',\n",
        "    'X-RapidAPI-Host': 'bloomberg-market-and-financial-news.p.rapidapi.com'\n",
        "  })\n",
        "dados.content"
      ],
      "metadata": {
        "id": "CTzISJGG_LOI"
      },
      "execution_count": null,
      "outputs": []
    },
    {
      "cell_type": "code",
      "source": [
        "print(dados.json())"
      ],
      "metadata": {
        "id": "qLg1uThhAgqk"
      },
      "execution_count": null,
      "outputs": []
    },
    {
      "cell_type": "code",
      "source": [
        "import json\n",
        "dados_dict=json.loads(dados.content)\n",
        "dados_dict.keys()"
      ],
      "metadata": {
        "id": "GmBvBaQJ_YNg"
      },
      "execution_count": null,
      "outputs": []
    },
    {
      "cell_type": "code",
      "source": [
        "print(\"ACTIVE:\",dados_dict[\"active\"])\n",
        "print(\"LAGGARDS:\",dados_dict[\"laggards\"])\n",
        "print(\"LEADERS:\",dados_dict[\"leaders\"])\n"
      ],
      "metadata": {
        "id": "BpGJeFwhAdt0"
      },
      "execution_count": null,
      "outputs": []
    },
    {
      "cell_type": "code",
      "source": [
        "import pandas as pd\n",
        "df_active=pd.DataFrame(dados_dict[\"active\"])\n",
        "df_active"
      ],
      "metadata": {
        "id": "3LnViOK7CbM4"
      },
      "execution_count": null,
      "outputs": []
    },
    {
      "cell_type": "code",
      "source": [
        "from numpy.lib.function_base import append\n",
        "float(df_active.pctChange[0])\n",
        "pctChangeFloat=[]\n",
        "for i in range(len(df_active.pctChange)):\n",
        "  pctChangeFloat.append(float(df_active.pctChange[i]))\n",
        "\n",
        "df_active[\"pct\"]=pctChangeFloat\n",
        "df_active[\"pct\"]"
      ],
      "metadata": {
        "id": "C4dkb9uMCyhR"
      },
      "execution_count": null,
      "outputs": []
    },
    {
      "cell_type": "code",
      "source": [
        "import matplotlib.pyplot as plt\n",
        "eixoX=df_active[\"symbol\"]\n",
        "eixoY=df_active[\"pct\"]\n",
        "plt.figure(figsize=(7,5))\n",
        "plt.bar(eixoX,eixoY)\n",
        "plt.show()"
      ],
      "metadata": {
        "id": "DIDiC-tzDrEM"
      },
      "execution_count": null,
      "outputs": []
    },
    {
      "cell_type": "code",
      "source": [
        "import requests\n",
        "url='https://bb-finance.p.rapidapi.com/market/get-cross-currencies'\n",
        "dados = requests.get(url,params= {\"id\": 'brl,cad,eur,usd'}, headers= {\n",
        "    'X-RapidAPI-Key': '7395c74fcdmshc55eca2cd2c9a8cp1901a1jsn9d93900b7993',\n",
        "     'X-RapidAPI-Host': 'bb-finance.p.rapidapi.com'\n",
        "  })\n",
        "dados.content"
      ],
      "metadata": {
        "id": "Fb8CoIFGEL0c"
      },
      "execution_count": null,
      "outputs": []
    },
    {
      "cell_type": "code",
      "source": [
        "import json\n",
        "dados_dict=json.loads(dados.content)\n",
        "dados_dict.keys()"
      ],
      "metadata": {
        "id": "bQdPSAKeEQEI"
      },
      "execution_count": null,
      "outputs": []
    },
    {
      "cell_type": "code",
      "source": [
        "print(dados_dict[\"result\"])"
      ],
      "metadata": {
        "id": "K_9mq9nZ4E67"
      },
      "execution_count": null,
      "outputs": []
    },
    {
      "cell_type": "code",
      "source": [
        "import pandas as pd\n",
        "df_curr=pd.DataFrame(dados_dict[\"result\"])\n",
        "print(df_curr.keys())\n",
        "df_curr\n",
        "\n"
      ],
      "metadata": {
        "id": "iIii32Gg4SNT"
      },
      "execution_count": null,
      "outputs": []
    },
    {
      "cell_type": "code",
      "source": [
        "import pandas as pd\n",
        "df_curr=pd.DataFrame(dados_dict[\"result\"])\n",
        "df_curr.keys()\n",
        "float(df_curr[\"USDEUR:cur\"][\"last\"])\n",
        "for x in df_curr.keys():\n",
        "  print(x,\":\",float(df_curr[x][\"last\"]))\n",
        "vlr=[]\n",
        "for x in df_curr.keys():\n",
        "  vlr.append(float(df_curr[x][\"last\"]))\n",
        "vlr\n"
      ],
      "metadata": {
        "id": "R1oMv31VEVBH"
      },
      "execution_count": null,
      "outputs": []
    },
    {
      "cell_type": "code",
      "source": [
        "import matplotlib.pyplot as plt\n",
        "eixoX=df_curr.keys()\n",
        "eixoY=vlr\n",
        "plt.figure(figsize=(14,8))\n",
        "plt.bar(eixoX,eixoY)\n",
        "plt.show()"
      ],
      "metadata": {
        "id": "xzN2nzLIEa9S"
      },
      "execution_count": null,
      "outputs": []
    }
  ]
}