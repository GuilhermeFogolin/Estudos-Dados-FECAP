{
  "nbformat": 4,
  "nbformat_minor": 0,
  "metadata": {
    "colab": {
      "provenance": [],
      "authorship_tag": "ABX9TyNYqj228kpLEVuKXlySkva6",
      "include_colab_link": true
    },
    "kernelspec": {
      "name": "python3",
      "display_name": "Python 3"
    },
    "language_info": {
      "name": "python"
    }
  },
  "cells": [
    {
      "cell_type": "markdown",
      "metadata": {
        "id": "view-in-github",
        "colab_type": "text"
      },
      "source": [
        "<a href=\"https://colab.research.google.com/github/GuilhermeFogolin/Estudos-Dados-FECAP/blob/main/Aula01_11_08.ipynb\" target=\"_parent\"><img src=\"https://colab.research.google.com/assets/colab-badge.svg\" alt=\"Open In Colab\"/></a>"
      ]
    },
    {
      "cell_type": "markdown",
      "source": [
        "# **Aula 01 - 11/08/2025 - Projeto em Ciência de Dados**"
      ],
      "metadata": {
        "id": "sQUY7GnOoBqO"
      }
    },
    {
      "cell_type": "code",
      "execution_count": null,
      "metadata": {
        "id": "kAo256P9mxKB",
        "outputId": "61adeca3-5455-4c04-b1b0-baf4b4b0112f",
        "colab": {
          "base_uri": "https://localhost:8080/"
        }
      },
      "outputs": [
        {
          "output_type": "stream",
          "name": "stdout",
          "text": [
            "oi\n"
          ]
        }
      ],
      "source": [
        "print('oi')"
      ]
    },
    {
      "cell_type": "markdown",
      "source": [
        "## **Estrutura de condição**"
      ],
      "metadata": {
        "id": "weQPktY0rWUG"
      }
    },
    {
      "cell_type": "code",
      "source": [
        "valor = float(input('Entre com o total do pedido: '))\n",
        "qtde = float(input('Entre com a quantidade de itens: '))\n",
        "\n",
        "if qtde > 0:\n",
        "  valorMedio = valor / qtde\n",
        "  print('O valor médio do pedido é: ', round(valorMedio, 2))\n",
        "\n",
        "else:\n",
        "  print('Quantidade inválida! Deve ser maior que zero...')"
      ],
      "metadata": {
        "colab": {
          "base_uri": "https://localhost:8080/"
        },
        "id": "mFPXxfUZpBkd",
        "outputId": "c9a13155-6bd9-4ff2-f2d5-d0c354598c7d"
      },
      "execution_count": 5,
      "outputs": [
        {
          "output_type": "stream",
          "name": "stdout",
          "text": [
            "Entre com o total do pedido: 10\n",
            "Entre com a quantidade de itens: 0\n",
            "Quantidade inválida! Deve ser maior que zero...\n"
          ]
        }
      ]
    },
    {
      "cell_type": "markdown",
      "source": [
        "## **Estruturas de repetição**"
      ],
      "metadata": {
        "id": "lm2QXaFrrdIw"
      }
    },
    {
      "cell_type": "code",
      "source": [
        "for i in range(6):\n",
        "    print(i)\n",
        "    print(\"----------------\")\n",
        "\n",
        "print(\"Finalizando...\")"
      ],
      "metadata": {
        "colab": {
          "base_uri": "https://localhost:8080/"
        },
        "id": "nIaORmtCrIrc",
        "outputId": "44a3acb7-dfe4-44a1-d2bf-3be8e9a44939"
      },
      "execution_count": 6,
      "outputs": [
        {
          "output_type": "stream",
          "name": "stdout",
          "text": [
            "0\n",
            "----------------\n",
            "1\n",
            "----------------\n",
            "2\n",
            "----------------\n",
            "3\n",
            "----------------\n",
            "4\n",
            "----------------\n",
            "5\n",
            "----------------\n",
            "Finalizando...\n"
          ]
        }
      ]
    },
    {
      "cell_type": "code",
      "source": [
        "i = 0\n",
        "\n",
        "while i < 10:\n",
        "  print(i)\n",
        "  i += 1\n",
        "\n",
        "print(\"Finalizando...\")"
      ],
      "metadata": {
        "colab": {
          "base_uri": "https://localhost:8080/"
        },
        "id": "Xkezrv2KrvYR",
        "outputId": "02ad8015-2aba-406c-8612-d9beab900ce5"
      },
      "execution_count": 7,
      "outputs": [
        {
          "output_type": "stream",
          "name": "stdout",
          "text": [
            "0\n",
            "1\n",
            "2\n",
            "3\n",
            "4\n",
            "5\n",
            "6\n",
            "7\n",
            "8\n",
            "9\n",
            "Finalizando...\n"
          ]
        }
      ]
    },
    {
      "cell_type": "markdown",
      "source": [
        "## **Estruturas de dados**"
      ],
      "metadata": {
        "id": "5pmpbDgbsSQa"
      }
    },
    {
      "cell_type": "code",
      "source": [
        "# Listas\n",
        "\n",
        "impares = [1, 3, 5, 7, 9]\n",
        "print(impares)\n",
        "print(impares[1])\n",
        "print(impares[-1])\n",
        "len(impares)"
      ],
      "metadata": {
        "colab": {
          "base_uri": "https://localhost:8080/"
        },
        "id": "K0gzJK-BsYIQ",
        "outputId": "9751bd37-a109-4bb3-9fc3-d1bec80881a3"
      },
      "execution_count": 10,
      "outputs": [
        {
          "output_type": "stream",
          "name": "stdout",
          "text": [
            "[1, 3, 5, 7, 9]\n",
            "3\n",
            "9\n"
          ]
        },
        {
          "output_type": "execute_result",
          "data": {
            "text/plain": [
              "5"
            ]
          },
          "metadata": {},
          "execution_count": 10
        }
      ]
    },
    {
      "cell_type": "code",
      "source": [
        "for i in range(len(impares)):\n",
        "  print('Elemento com índice', i, 'vale:', impares[i])"
      ],
      "metadata": {
        "colab": {
          "base_uri": "https://localhost:8080/"
        },
        "id": "oZ_ojDzvs_SY",
        "outputId": "2f5f962a-6153-41cb-bee9-d78b1a6fdf75"
      },
      "execution_count": 11,
      "outputs": [
        {
          "output_type": "stream",
          "name": "stdout",
          "text": [
            "Elemento com índice 0 vale: 1\n",
            "Elemento com índice 1 vale: 3\n",
            "Elemento com índice 2 vale: 5\n",
            "Elemento com índice 3 vale: 7\n",
            "Elemento com índice 4 vale: 9\n"
          ]
        }
      ]
    },
    {
      "cell_type": "code",
      "source": [
        "def imprimir(lista):\n",
        "  for i in range(len(lista)):\n",
        "    print('Elemento com índice', i, 'vale:', lista[i])\n",
        "  print('------')\n",
        "  return # Não obrigatório, mas recomendado por boas práticas\n",
        "\n",
        "imprimir(impares)\n",
        "\n",
        "impares[4] = 999 # Alterando valor do elemento na lista"
      ],
      "metadata": {
        "colab": {
          "base_uri": "https://localhost:8080/"
        },
        "id": "oP7qIYiYtpbL",
        "outputId": "bf9320c4-6c11-4b6c-96a5-a4bfdec557aa"
      },
      "execution_count": 13,
      "outputs": [
        {
          "output_type": "stream",
          "name": "stdout",
          "text": [
            "Elemento com índice 0 vale: 1\n",
            "Elemento com índice 1 vale: 3\n",
            "Elemento com índice 2 vale: 5\n",
            "Elemento com índice 3 vale: 7\n",
            "Elemento com índice 4 vale: 9\n",
            "------\n"
          ]
        }
      ]
    },
    {
      "cell_type": "markdown",
      "source": [
        "# **Bibliotecas**"
      ],
      "metadata": {
        "id": "7kfXCSgswg2S"
      }
    },
    {
      "cell_type": "code",
      "source": [
        "import matplotlib.pyplot as plt\n",
        "\n",
        "\n",
        "plt.plot([10, 5, 3, 4, 6, 8])\n",
        "plt.plot('Gráfico inicial')\n",
        "plt.show()"
      ],
      "metadata": {
        "colab": {
          "base_uri": "https://localhost:8080/",
          "height": 430
        },
        "id": "jw6CvCJzwn1L",
        "outputId": "4510a7c3-7c66-4daa-8fbe-221e8d779d0a"
      },
      "execution_count": 14,
      "outputs": [
        {
          "output_type": "display_data",
          "data": {
            "text/plain": [
              "<Figure size 640x480 with 1 Axes>"
            ],
            "image/png": "[encoded data removed]"
          },
          "metadata": {}
        }
      ]
    },
    {
      "cell_type": "code",
      "source": [
        "import numpy as np\n",
        "import matplotlib.pyplot as plt\n",
        "\n",
        "data1 = [10,5,2,4,6,8]\n",
        "data2 = [1,2,4,8,7,4]\n",
        "\n",
        "x = 10*np.array(range(len(data1)))\n",
        "plt.plot( x, data1, 'go')\n",
        "plt.plot( x, data1, 'k:', color='orange')\n",
        "plt.plot( x, data2, 'r^')\n",
        "plt.plot( x, data2, 'k--', color='blue')\n",
        "plt.axis([-10, 60, 0, 11])\n",
        "plt.title(\"Gráfico com Numpy e Matplotlib\")\n",
        "plt.grid(True)\n",
        "plt.xlabel(\"Eixo horizontal\")\n",
        "plt.ylabel(\"Eixo vertical\")\n",
        "plt.show()"
      ],
      "metadata": {
        "colab": {
          "base_uri": "https://localhost:8080/",
          "height": 543
        },
        "id": "JVTTFWYPxXa_",
        "outputId": "0d5d5b02-2b29-4ebf-c349-70f8817a60d1"
      },
      "execution_count": 16,
      "outputs": [
        {
          "output_type": "stream",
          "name": "stderr",
          "text": [
            "/tmp/ipython-input-3095259318.py:9: UserWarning: color is redundantly defined by the 'color' keyword argument and the fmt string \"k:\" (-> color='k'). The keyword argument will take precedence.\n",
            "  plt.plot( x, data1, 'k:', color='orange')\n",
            "/tmp/ipython-input-3095259318.py:11: UserWarning: color is redundantly defined by the 'color' keyword argument and the fmt string \"k--\" (-> color='k'). The keyword argument will take precedence.\n",
            "  plt.plot( x, data2, 'k--', color='blue')\n"
          ]
        },
        {
          "output_type": "display_data",
          "data": {
            "text/plain": [
              "<Figure size 640x480 with 1 Axes>"
            ],
            "image/png": "[encoded data removed]"
          },
          "metadata": {}
        }
      ]
    }
  ]
}