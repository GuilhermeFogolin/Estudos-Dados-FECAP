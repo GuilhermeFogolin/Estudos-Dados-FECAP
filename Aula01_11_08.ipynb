{
  "nbformat": 4,
  "nbformat_minor": 0,
  "metadata": {
    "colab": {
      "provenance": [],
      "authorship_tag": "ABX9TyPTyS9OnZWDad8punniwV5J",
      "include_colab_link": true
    },
    "kernelspec": {
      "name": "python3",
      "display_name": "Python 3"
    },
    "language_info": {
      "name": "python"
    }
  },
  "cells": [
    {
      "cell_type": "markdown",
      "metadata": {
        "id": "view-in-github",
        "colab_type": "text"
      },
      "source": [
        "<a href=\"https://colab.research.google.com/github/GuilhermeFogolin/Estudos-Dados-FECAP/blob/main/Aula01_11_08.ipynb\" target=\"_parent\"><img src=\"https://colab.research.google.com/assets/colab-badge.svg\" alt=\"Open In Colab\"/></a>"
      ]
    },
    {
      "cell_type": "markdown",
      "source": [
        "# **Aula 01 - 11/08/2025 - Projeto em Ciência de Dados**"
      ],
      "metadata": {
        "id": "sQUY7GnOoBqO"
      }
    },
    {
      "cell_type": "code",
      "execution_count": null,
      "metadata": {
        "id": "kAo256P9mxKB",
        "outputId": "61adeca3-5455-4c04-b1b0-baf4b4b0112f",
        "colab": {
          "base_uri": "https://localhost:8080/"
        }
      },
      "outputs": [
        {
          "output_type": "stream",
          "name": "stdout",
          "text": [
            "oi\n"
          ]
        }
      ],
      "source": [
        "print('oi')"
      ]
    },
    {
      "cell_type": "code",
      "source": [
        "## Estruturas de condição\n",
        "\n",
        "valor = float(input('Entre com o total do pedido: '))\n",
        "qtde = float(input('Entre com a quantidade de itens: '))\n",
        "\n",
        "if qtde > 0:\n",
        "  valorMedio = valor / qtde\n",
        "  print('O valor médio do pedido é: ', round(valorMedio, 2))\n",
        "\n",
        "else:\n",
        "  print('Quantidade inválida! Deve ser maior que zero...')"
      ],
      "metadata": {
        "colab": {
          "base_uri": "https://localhost:8080/"
        },
        "id": "mFPXxfUZpBkd",
        "outputId": "c9a13155-6bd9-4ff2-f2d5-d0c354598c7d"
      },
      "execution_count": 5,
      "outputs": [
        {
          "output_type": "stream",
          "name": "stdout",
          "text": [
            "Entre com o total do pedido: 10\n",
            "Entre com a quantidade de itens: 0\n",
            "Quantidade inválida! Deve ser maior que zero...\n"
          ]
        }
      ]
    }
  ]
}