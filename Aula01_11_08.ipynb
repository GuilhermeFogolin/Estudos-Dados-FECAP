{
  "nbformat": 4,
  "nbformat_minor": 0,
  "metadata": {
    "colab": {
      "provenance": [],
      "authorship_tag": "ABX9TyMNgSmMTV2bBkGqN4RRbwG3",
      "include_colab_link": true
    },
    "kernelspec": {
      "name": "python3",
      "display_name": "Python 3"
    },
    "language_info": {
      "name": "python"
    }
  },
  "cells": [
    {
      "cell_type": "markdown",
      "metadata": {
        "id": "view-in-github",
        "colab_type": "text"
      },
      "source": [
        "<a href=\"https://colab.research.google.com/github/GuilhermeFogolin/Estudos-Dados-FECAP/blob/main/Aula01_11_08.ipynb\" target=\"_parent\"><img src=\"https://colab.research.google.com/assets/colab-badge.svg\" alt=\"Open In Colab\"/></a>"
      ]
    },
    {
      "cell_type": "markdown",
      "source": [
        "# **Aula 01 - 11/08/2025 - Projeto em Ciência de Dados**"
      ],
      "metadata": {
        "id": "sQUY7GnOoBqO"
      }
    },
    {
      "cell_type": "code",
      "execution_count": null,
      "metadata": {
        "id": "kAo256P9mxKB",
        "outputId": "61adeca3-5455-4c04-b1b0-baf4b4b0112f",
        "colab": {
          "base_uri": "https://localhost:8080/"
        }
      },
      "outputs": [
        {
          "output_type": "stream",
          "name": "stdout",
          "text": [
            "oi\n"
          ]
        }
      ],
      "source": [
        "print('oi')"
      ]
    },
    {
      "cell_type": "markdown",
      "source": [
        "## **Estrutura de condição**"
      ],
      "metadata": {
        "id": "weQPktY0rWUG"
      }
    },
    {
      "cell_type": "code",
      "source": [
        "valor = float(input('Entre com o total do pedido: '))\n",
        "qtde = float(input('Entre com a quantidade de itens: '))\n",
        "\n",
        "if qtde > 0:\n",
        "  valorMedio = valor / qtde\n",
        "  print('O valor médio do pedido é: ', round(valorMedio, 2))\n",
        "\n",
        "else:\n",
        "  print('Quantidade inválida! Deve ser maior que zero...')"
      ],
      "metadata": {
        "colab": {
          "base_uri": "https://localhost:8080/"
        },
        "id": "mFPXxfUZpBkd",
        "outputId": "c9a13155-6bd9-4ff2-f2d5-d0c354598c7d"
      },
      "execution_count": 5,
      "outputs": [
        {
          "output_type": "stream",
          "name": "stdout",
          "text": [
            "Entre com o total do pedido: 10\n",
            "Entre com a quantidade de itens: 0\n",
            "Quantidade inválida! Deve ser maior que zero...\n"
          ]
        }
      ]
    },
    {
      "cell_type": "markdown",
      "source": [
        "## **Estruturas de repetição**"
      ],
      "metadata": {
        "id": "lm2QXaFrrdIw"
      }
    },
    {
      "cell_type": "code",
      "source": [
        "for i in range(6):\n",
        "    print(i)\n",
        "    print(\"----------------\")\n",
        "\n",
        "print(\"Finalizando...\")"
      ],
      "metadata": {
        "colab": {
          "base_uri": "https://localhost:8080/"
        },
        "id": "nIaORmtCrIrc",
        "outputId": "44a3acb7-dfe4-44a1-d2bf-3be8e9a44939"
      },
      "execution_count": 6,
      "outputs": [
        {
          "output_type": "stream",
          "name": "stdout",
          "text": [
            "0\n",
            "----------------\n",
            "1\n",
            "----------------\n",
            "2\n",
            "----------------\n",
            "3\n",
            "----------------\n",
            "4\n",
            "----------------\n",
            "5\n",
            "----------------\n",
            "Finalizando...\n"
          ]
        }
      ]
    },
    {
      "cell_type": "code",
      "source": [
        "i = 0\n",
        "\n",
        "while i < 10:\n",
        "  print(i)\n",
        "  i += 1\n",
        "\n",
        "print(\"Finalizando...\")"
      ],
      "metadata": {
        "colab": {
          "base_uri": "https://localhost:8080/"
        },
        "id": "Xkezrv2KrvYR",
        "outputId": "02ad8015-2aba-406c-8612-d9beab900ce5"
      },
      "execution_count": 7,
      "outputs": [
        {
          "output_type": "stream",
          "name": "stdout",
          "text": [
            "0\n",
            "1\n",
            "2\n",
            "3\n",
            "4\n",
            "5\n",
            "6\n",
            "7\n",
            "8\n",
            "9\n",
            "Finalizando...\n"
          ]
        }
      ]
    }
  ]
}