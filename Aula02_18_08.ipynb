{
  "nbformat": 4,
  "nbformat_minor": 0,
  "metadata": {
    "colab": {
      "provenance": [],
      "authorship_tag": "ABX9TyNpMJWEh4NVdYdRksVx4ezC",
      "include_colab_link": true
    },
    "kernelspec": {
      "name": "python3",
      "display_name": "Python 3"
    },
    "language_info": {
      "name": "python"
    }
  },
  "cells": [
    {
      "cell_type": "markdown",
      "metadata": {
        "id": "view-in-github",
        "colab_type": "text"
      },
      "source": [
        "<a href=\"https://colab.research.google.com/github/GuilhermeFogolin/Estudos-Dados-FECAP/blob/main/Aula02_18_08.ipynb\" target=\"_parent\"><img src=\"https://colab.research.google.com/assets/colab-badge.svg\" alt=\"Open In Colab\"/></a>"
      ]
    },
    {
      "cell_type": "markdown",
      "source": [
        "# **Aula 02 - 18/08/2025 - Projeto em Ciência de Dados**\n"
      ],
      "metadata": {
        "id": "LTt4X_WwOmtQ"
      }
    },
    {
      "cell_type": "code",
      "execution_count": null,
      "metadata": {
        "collapsed": true,
        "id": "rMgdwfUHOhKZ"
      },
      "outputs": [],
      "source": [
        "import pandas as pd\n",
        "\n",
        "df = pd.read_csv(\"BASE01.CREDITO.csv\", sep=\";\")\n",
        "\n",
        "print(df)"
      ]
    },
    {
      "cell_type": "code",
      "source": [
        "print(df[[\"codigoconcessao\", \"perda\", \"valorcredito\"]]) # Imprimindo três colunas"
      ],
      "metadata": {
        "colab": {
          "base_uri": "https://localhost:8080/"
        },
        "id": "pKENHN2xPWbg",
        "outputId": "a9dd288a-a5e2-439d-ff02-c0b3b6172ce8"
      },
      "execution_count": 23,
      "outputs": [
        {
          "output_type": "stream",
          "name": "stdout",
          "text": [
            "     codigoconcessao    perda valorcredito\n",
            "0               7616     0,00      3520,00\n",
            "1                281   866,80      1046,85\n",
            "2                282     0,00      4550,00\n",
            "3               7889  2100,00      2625,00\n",
            "4                283     0,00      1200,00\n",
            "..               ...      ...          ...\n",
            "112             1967     0,00      3599,00\n",
            "113              344     0,00      4800,00\n",
            "114              345     0,00      2750,00\n",
            "115              346     0,00      2105,00\n",
            "116             1825     0,00      3150,00\n",
            "\n",
            "[117 rows x 3 columns]\n"
          ]
        }
      ]
    },
    {
      "cell_type": "code",
      "source": [
        "# Alterando tipo de coluna str para float\n",
        "\n",
        "df['perda'] = df['perda'].str.replace(',', '.')\n",
        "df['perda'] = df['perda'].astype(float)\n",
        "\n",
        "df['valorcredito'] = df['valorcredito'].str.replace(',', '.')\n",
        "df['valorcredito'] = df['valorcredito'].astype(float)\n",
        "\n",
        "df['idade'] = df['idade'].astype(int)\n",
        "\n",
        "df['gastoscartao'] = df['gastoscartao'].str.replace(',', '.')\n",
        "df['gastoscartao'] = df['gastoscartao'].astype(float)"
      ],
      "metadata": {
        "id": "NPdvH5czQQG_"
      },
      "execution_count": 24,
      "outputs": []
    },
    {
      "cell_type": "code",
      "source": [
        "print(\"Ordenando por perda decrescente\")\n",
        "print(df[[\"cliente\", \"perda\", \"valorcredito\"]].sort_values(by = \"perda\", ascending=False))"
      ],
      "metadata": {
        "id": "zJchKNWiPm8J",
        "colab": {
          "base_uri": "https://localhost:8080/"
        },
        "outputId": "e4904d10-2c5e-4da3-c8c6-e779811c7148"
      },
      "execution_count": 25,
      "outputs": [
        {
          "output_type": "stream",
          "name": "stdout",
          "text": [
            "Ordenando por perda decrescente\n",
            "     cliente   perda  valorcredito\n",
            "29        30  5520.0        6900.0\n",
            "40        41  4941.0        5490.0\n",
            "63        64  4160.0        5200.0\n",
            "71        72  3880.0        4850.0\n",
            "99       100  3760.0        4700.0\n",
            "..       ...     ...           ...\n",
            "112      113     0.0        3599.0\n",
            "113      114     0.0        4800.0\n",
            "114      115     0.0        2750.0\n",
            "115      116     0.0        2105.0\n",
            "116      117     0.0        3150.0\n",
            "\n",
            "[117 rows x 3 columns]\n"
          ]
        }
      ]
    },
    {
      "cell_type": "code",
      "source": [
        "print(\"Ordenando por mais de um campo\")\n",
        "print(df[[\"cliente\", \"perda\", \"valorcredito\"]].sort_values(by = [\"perda\", \"valorcredito\"], ascending= [True, False]))"
      ],
      "metadata": {
        "colab": {
          "base_uri": "https://localhost:8080/"
        },
        "id": "HkOTn1rfUU5W",
        "outputId": "6c6356bb-afb3-47d8-9df1-a329c2dc32ba"
      },
      "execution_count": 29,
      "outputs": [
        {
          "output_type": "stream",
          "name": "stdout",
          "text": [
            "Ordenando por mais de um campo\n",
            "    cliente   perda  valorcredito\n",
            "36       37     0.0        6025.0\n",
            "9        10     0.0        6000.0\n",
            "51       52     0.0        6000.0\n",
            "78       79     0.0        5800.0\n",
            "81       82     0.0        5800.0\n",
            "..      ...     ...           ...\n",
            "99      100  3760.0        4700.0\n",
            "71       72  3880.0        4850.0\n",
            "63       64  4160.0        5200.0\n",
            "40       41  4941.0        5490.0\n",
            "29       30  5520.0        6900.0\n",
            "\n",
            "[117 rows x 3 columns]\n"
          ]
        }
      ]
    },
    {
      "cell_type": "code",
      "source": [
        "df_maiores_perdas = (df[[\"cliente\", \"perda\"]].sort_values(by = [\"perda\"], ascending= [False]).head(10)) # Top 10 perdas\n",
        "df_maiores_perdas"
      ],
      "metadata": {
        "colab": {
          "base_uri": "https://localhost:8080/",
          "height": 363
        },
        "id": "ii07UkkYVSsZ",
        "outputId": "59cf9360-4971-4d5b-f929-26bc77d47898"
      },
      "execution_count": 35,
      "outputs": [
        {
          "output_type": "execute_result",
          "data": {
            "text/plain": [
              "     cliente   perda\n",
              "29        30  5520.0\n",
              "40        41  4941.0\n",
              "63        64  4160.0\n",
              "71        72  3880.0\n",
              "99       100  3760.0\n",
              "44        45  3640.0\n",
              "95        96  3468.5\n",
              "67        68  3325.0\n",
              "25        26  3290.0\n",
              "109      110  3152.0"
            ],
            "text/html": [
              "\n",
              "  <div id=\"df-46fc1865-4b9b-406f-9dd2-831e0cc3eac5\" class=\"colab-df-container\">\n",
              "    <div>\n",
              "<style scoped>\n",
              "    .dataframe tbody tr th:only-of-type {\n",
              "        vertical-align: middle;\n",
              "    }\n",
              "\n",
              "    .dataframe tbody tr th {\n",
              "        vertical-align: top;\n",
              "    }\n",
              "\n",
              "    .dataframe thead th {\n",
              "        text-align: right;\n",
              "    }\n",
              "</style>\n",
              "<table border=\"1\" class=\"dataframe\">\n",
              "  <thead>\n",
              "    <tr style=\"text-align: right;\">\n",
              "      <th></th>\n",
              "      <th>cliente</th>\n",
              "      <th>perda</th>\n",
              "    </tr>\n",
              "  </thead>\n",
              "  <tbody>\n",
              "    <tr>\n",
              "      <th>29</th>\n",
              "      <td>30</td>\n",
              "      <td>5520.0</td>\n",
              "    </tr>\n",
              "    <tr>\n",
              "      <th>40</th>\n",
              "      <td>41</td>\n",
              "      <td>4941.0</td>\n",
              "    </tr>\n",
              "    <tr>\n",
              "      <th>63</th>\n",
              "      <td>64</td>\n",
              "      <td>4160.0</td>\n",
              "    </tr>\n",
              "    <tr>\n",
              "      <th>71</th>\n",
              "      <td>72</td>\n",
              "      <td>3880.0</td>\n",
              "    </tr>\n",
              "    <tr>\n",
              "      <th>99</th>\n",
              "      <td>100</td>\n",
              "      <td>3760.0</td>\n",
              "    </tr>\n",
              "    <tr>\n",
              "      <th>44</th>\n",
              "      <td>45</td>\n",
              "      <td>3640.0</td>\n",
              "    </tr>\n",
              "    <tr>\n",
              "      <th>95</th>\n",
              "      <td>96</td>\n",
              "      <td>3468.5</td>\n",
              "    </tr>\n",
              "    <tr>\n",
              "      <th>67</th>\n",
              "      <td>68</td>\n",
              "      <td>3325.0</td>\n",
              "    </tr>\n",
              "    <tr>\n",
              "      <th>25</th>\n",
              "      <td>26</td>\n",
              "      <td>3290.0</td>\n",
              "    </tr>\n",
              "    <tr>\n",
              "      <th>109</th>\n",
              "      <td>110</td>\n",
              "      <td>3152.0</td>\n",
              "    </tr>\n",
              "  </tbody>\n",
              "</table>\n",
              "</div>\n",
              "    <div class=\"colab-df-buttons\">\n",
              "\n",
              "  <div class=\"colab-df-container\">\n",
              "    <button class=\"colab-df-convert\" onclick=\"convertToInteractive('df-46fc1865-4b9b-406f-9dd2-831e0cc3eac5')\"\n",
              "            title=\"Convert this dataframe to an interactive table.\"\n",
              "            style=\"display:none;\">\n",
              "\n",
              "  <svg xmlns=\"http://www.w3.org/2000/svg\" height=\"24px\" viewBox=\"0 -960 960 960\">\n",
              "    <path d=\"M120-120v-720h720v720H120Zm60-500h600v-160H180v160Zm220 220h160v-160H400v160Zm0 220h160v-160H400v160ZM180-400h160v-160H180v160Zm440 0h160v-160H620v160ZM180-180h160v-160H180v160Zm440 0h160v-160H620v160Z\"/>\n",
              "  </svg>\n",
              "    </button>\n",
              "\n",
              "  <style>\n",
              "    .colab-df-container {\n",
              "      display:flex;\n",
              "      gap: 12px;\n",
              "    }\n",
              "\n",
              "    .colab-df-convert {\n",
              "      background-color: #E8F0FE;\n",
              "      border: none;\n",
              "      border-radius: 50%;\n",
              "      cursor: pointer;\n",
              "      display: none;\n",
              "      fill: #1967D2;\n",
              "      height: 32px;\n",
              "      padding: 0 0 0 0;\n",
              "      width: 32px;\n",
              "    }\n",
              "\n",
              "    .colab-df-convert:hover {\n",
              "      background-color: #E2EBFA;\n",
              "      box-shadow: 0px 1px 2px rgba(60, 64, 67, 0.3), 0px 1px 3px 1px rgba(60, 64, 67, 0.15);\n",
              "      fill: #174EA6;\n",
              "    }\n",
              "\n",
              "    .colab-df-buttons div {\n",
              "      margin-bottom: 4px;\n",
              "    }\n",
              "\n",
              "    [theme=dark] .colab-df-convert {\n",
              "      background-color: #3B4455;\n",
              "      fill: #D2E3FC;\n",
              "    }\n",
              "\n",
              "    [theme=dark] .colab-df-convert:hover {\n",
              "      background-color: #434B5C;\n",
              "      box-shadow: 0px 1px 3px 1px rgba(0, 0, 0, 0.15);\n",
              "      filter: drop-shadow(0px 1px 2px rgba(0, 0, 0, 0.3));\n",
              "      fill: #FFFFFF;\n",
              "    }\n",
              "  </style>\n",
              "\n",
              "    <script>\n",
              "      const buttonEl =\n",
              "        document.querySelector('#df-46fc1865-4b9b-406f-9dd2-831e0cc3eac5 button.colab-df-convert');\n",
              "      buttonEl.style.display =\n",
              "        google.colab.kernel.accessAllowed ? 'block' : 'none';\n",
              "\n",
              "      async function convertToInteractive(key) {\n",
              "        const element = document.querySelector('#df-46fc1865-4b9b-406f-9dd2-831e0cc3eac5');\n",
              "        const dataTable =\n",
              "          await google.colab.kernel.invokeFunction('convertToInteractive',\n",
              "                                                    [key], {});\n",
              "        if (!dataTable) return;\n",
              "\n",
              "        const docLinkHtml = 'Like what you see? Visit the ' +\n",
              "          '<a target=\"_blank\" href=https://colab.research.google.com/notebooks/data_table.ipynb>data table notebook</a>'\n",
              "          + ' to learn more about interactive tables.';\n",
              "        element.innerHTML = '';\n",
              "        dataTable['output_type'] = 'display_data';\n",
              "        await google.colab.output.renderOutput(dataTable, element);\n",
              "        const docLink = document.createElement('div');\n",
              "        docLink.innerHTML = docLinkHtml;\n",
              "        element.appendChild(docLink);\n",
              "      }\n",
              "    </script>\n",
              "  </div>\n",
              "\n",
              "\n",
              "    <div id=\"df-b4836e8e-e0ca-4eea-95d3-936c7a5fb237\">\n",
              "      <button class=\"colab-df-quickchart\" onclick=\"quickchart('df-b4836e8e-e0ca-4eea-95d3-936c7a5fb237')\"\n",
              "                title=\"Suggest charts\"\n",
              "                style=\"display:none;\">\n",
              "\n",
              "<svg xmlns=\"http://www.w3.org/2000/svg\" height=\"24px\"viewBox=\"0 0 24 24\"\n",
              "     width=\"24px\">\n",
              "    <g>\n",
              "        <path d=\"M19 3H5c-1.1 0-2 .9-2 2v14c0 1.1.9 2 2 2h14c1.1 0 2-.9 2-2V5c0-1.1-.9-2-2-2zM9 17H7v-7h2v7zm4 0h-2V7h2v10zm4 0h-2v-4h2v4z\"/>\n",
              "    </g>\n",
              "</svg>\n",
              "      </button>\n",
              "\n",
              "<style>\n",
              "  .colab-df-quickchart {\n",
              "      --bg-color: #E8F0FE;\n",
              "      --fill-color: #1967D2;\n",
              "      --hover-bg-color: #E2EBFA;\n",
              "      --hover-fill-color: #174EA6;\n",
              "      --disabled-fill-color: #AAA;\n",
              "      --disabled-bg-color: #DDD;\n",
              "  }\n",
              "\n",
              "  [theme=dark] .colab-df-quickchart {\n",
              "      --bg-color: #3B4455;\n",
              "      --fill-color: #D2E3FC;\n",
              "      --hover-bg-color: #434B5C;\n",
              "      --hover-fill-color: #FFFFFF;\n",
              "      --disabled-bg-color: #3B4455;\n",
              "      --disabled-fill-color: #666;\n",
              "  }\n",
              "\n",
              "  .colab-df-quickchart {\n",
              "    background-color: var(--bg-color);\n",
              "    border: none;\n",
              "    border-radius: 50%;\n",
              "    cursor: pointer;\n",
              "    display: none;\n",
              "    fill: var(--fill-color);\n",
              "    height: 32px;\n",
              "    padding: 0;\n",
              "    width: 32px;\n",
              "  }\n",
              "\n",
              "  .colab-df-quickchart:hover {\n",
              "    background-color: var(--hover-bg-color);\n",
              "    box-shadow: 0 1px 2px rgba(60, 64, 67, 0.3), 0 1px 3px 1px rgba(60, 64, 67, 0.15);\n",
              "    fill: var(--button-hover-fill-color);\n",
              "  }\n",
              "\n",
              "  .colab-df-quickchart-complete:disabled,\n",
              "  .colab-df-quickchart-complete:disabled:hover {\n",
              "    background-color: var(--disabled-bg-color);\n",
              "    fill: var(--disabled-fill-color);\n",
              "    box-shadow: none;\n",
              "  }\n",
              "\n",
              "  .colab-df-spinner {\n",
              "    border: 2px solid var(--fill-color);\n",
              "    border-color: transparent;\n",
              "    border-bottom-color: var(--fill-color);\n",
              "    animation:\n",
              "      spin 1s steps(1) infinite;\n",
              "  }\n",
              "\n",
              "  @keyframes spin {\n",
              "    0% {\n",
              "      border-color: transparent;\n",
              "      border-bottom-color: var(--fill-color);\n",
              "      border-left-color: var(--fill-color);\n",
              "    }\n",
              "    20% {\n",
              "      border-color: transparent;\n",
              "      border-left-color: var(--fill-color);\n",
              "      border-top-color: var(--fill-color);\n",
              "    }\n",
              "    30% {\n",
              "      border-color: transparent;\n",
              "      border-left-color: var(--fill-color);\n",
              "      border-top-color: var(--fill-color);\n",
              "      border-right-color: var(--fill-color);\n",
              "    }\n",
              "    40% {\n",
              "      border-color: transparent;\n",
              "      border-right-color: var(--fill-color);\n",
              "      border-top-color: var(--fill-color);\n",
              "    }\n",
              "    60% {\n",
              "      border-color: transparent;\n",
              "      border-right-color: var(--fill-color);\n",
              "    }\n",
              "    80% {\n",
              "      border-color: transparent;\n",
              "      border-right-color: var(--fill-color);\n",
              "      border-bottom-color: var(--fill-color);\n",
              "    }\n",
              "    90% {\n",
              "      border-color: transparent;\n",
              "      border-bottom-color: var(--fill-color);\n",
              "    }\n",
              "  }\n",
              "</style>\n",
              "\n",
              "      <script>\n",
              "        async function quickchart(key) {\n",
              "          const quickchartButtonEl =\n",
              "            document.querySelector('#' + key + ' button');\n",
              "          quickchartButtonEl.disabled = true;  // To prevent multiple clicks.\n",
              "          quickchartButtonEl.classList.add('colab-df-spinner');\n",
              "          try {\n",
              "            const charts = await google.colab.kernel.invokeFunction(\n",
              "                'suggestCharts', [key], {});\n",
              "          } catch (error) {\n",
              "            console.error('Error during call to suggestCharts:', error);\n",
              "          }\n",
              "          quickchartButtonEl.classList.remove('colab-df-spinner');\n",
              "          quickchartButtonEl.classList.add('colab-df-quickchart-complete');\n",
              "        }\n",
              "        (() => {\n",
              "          let quickchartButtonEl =\n",
              "            document.querySelector('#df-b4836e8e-e0ca-4eea-95d3-936c7a5fb237 button');\n",
              "          quickchartButtonEl.style.display =\n",
              "            google.colab.kernel.accessAllowed ? 'block' : 'none';\n",
              "        })();\n",
              "      </script>\n",
              "    </div>\n",
              "\n",
              "  <div id=\"id_b1da7da9-93a3-4bf2-a2b2-64f3da4446b1\">\n",
              "    <style>\n",
              "      .colab-df-generate {\n",
              "        background-color: #E8F0FE;\n",
              "        border: none;\n",
              "        border-radius: 50%;\n",
              "        cursor: pointer;\n",
              "        display: none;\n",
              "        fill: #1967D2;\n",
              "        height: 32px;\n",
              "        padding: 0 0 0 0;\n",
              "        width: 32px;\n",
              "      }\n",
              "\n",
              "      .colab-df-generate:hover {\n",
              "        background-color: #E2EBFA;\n",
              "        box-shadow: 0px 1px 2px rgba(60, 64, 67, 0.3), 0px 1px 3px 1px rgba(60, 64, 67, 0.15);\n",
              "        fill: #174EA6;\n",
              "      }\n",
              "\n",
              "      [theme=dark] .colab-df-generate {\n",
              "        background-color: #3B4455;\n",
              "        fill: #D2E3FC;\n",
              "      }\n",
              "\n",
              "      [theme=dark] .colab-df-generate:hover {\n",
              "        background-color: #434B5C;\n",
              "        box-shadow: 0px 1px 3px 1px rgba(0, 0, 0, 0.15);\n",
              "        filter: drop-shadow(0px 1px 2px rgba(0, 0, 0, 0.3));\n",
              "        fill: #FFFFFF;\n",
              "      }\n",
              "    </style>\n",
              "    <button class=\"colab-df-generate\" onclick=\"generateWithVariable('df_maiores_perdas')\"\n",
              "            title=\"Generate code using this dataframe.\"\n",
              "            style=\"display:none;\">\n",
              "\n",
              "  <svg xmlns=\"http://www.w3.org/2000/svg\" height=\"24px\"viewBox=\"0 0 24 24\"\n",
              "       width=\"24px\">\n",
              "    <path d=\"M7,19H8.4L18.45,9,17,7.55,7,17.6ZM5,21V16.75L18.45,3.32a2,2,0,0,1,2.83,0l1.4,1.43a1.91,1.91,0,0,1,.58,1.4,1.91,1.91,0,0,1-.58,1.4L9.25,21ZM18.45,9,17,7.55Zm-12,3A5.31,5.31,0,0,0,4.9,8.1,5.31,5.31,0,0,0,1,6.5,5.31,5.31,0,0,0,4.9,4.9,5.31,5.31,0,0,0,6.5,1,5.31,5.31,0,0,0,8.1,4.9,5.31,5.31,0,0,0,12,6.5,5.46,5.46,0,0,0,6.5,12Z\"/>\n",
              "  </svg>\n",
              "    </button>\n",
              "    <script>\n",
              "      (() => {\n",
              "      const buttonEl =\n",
              "        document.querySelector('#id_b1da7da9-93a3-4bf2-a2b2-64f3da4446b1 button.colab-df-generate');\n",
              "      buttonEl.style.display =\n",
              "        google.colab.kernel.accessAllowed ? 'block' : 'none';\n",
              "\n",
              "      buttonEl.onclick = () => {\n",
              "        google.colab.notebook.generateWithVariable('df_maiores_perdas');\n",
              "      }\n",
              "      })();\n",
              "    </script>\n",
              "  </div>\n",
              "\n",
              "    </div>\n",
              "  </div>\n"
            ],
            "application/vnd.google.colaboratory.intrinsic+json": {
              "type": "dataframe",
              "variable_name": "df_maiores_perdas",
              "summary": "{\n  \"name\": \"df_maiores_perdas\",\n  \"rows\": 10,\n  \"fields\": [\n    {\n      \"column\": \"cliente\",\n      \"properties\": {\n        \"dtype\": \"number\",\n        \"std\": 29,\n        \"min\": 26,\n        \"max\": 110,\n        \"num_unique_values\": 10,\n        \"samples\": [\n          26,\n          41,\n          45\n        ],\n        \"semantic_type\": \"\",\n        \"description\": \"\"\n      }\n    },\n    {\n      \"column\": \"perda\",\n      \"properties\": {\n        \"dtype\": \"number\",\n        \"std\": 768.1029318319836,\n        \"min\": 3152.0,\n        \"max\": 5520.0,\n        \"num_unique_values\": 10,\n        \"samples\": [\n          3290.0,\n          4941.0,\n          3640.0\n        ],\n        \"semantic_type\": \"\",\n        \"description\": \"\"\n      }\n    }\n  ]\n}"
            }
          },
          "metadata": {},
          "execution_count": 35
        }
      ]
    },
    {
      "cell_type": "code",
      "source": [
        "for i in range(len(df)): # Iterando sobre todo o df\n",
        "  print(\"Cliente :\", df.iloc[i][\"cliente\"])\n",
        "  print(\"Valor de crédito: R$\", df.iloc[i][\"valorcredito\"])\n",
        "  print(\"***********************************\")"
      ],
      "metadata": {
        "id": "SbmcHQuJWTT2"
      },
      "execution_count": null,
      "outputs": []
    },
    {
      "cell_type": "code",
      "source": [
        "for i in range(len(df)): # Interando com condições\n",
        "  if df.iloc[i][\"valorcredito\"] >= 4000:\n",
        "    print(\"Client :\", df.iloc[i][\"cliente\"])\n",
        "    print(\"Credit value: R$\", df.iloc[i][\"valorcredito\"])\n",
        "    print(\"***********************************\")"
      ],
      "metadata": {
        "id": "xs_gLe0iW5PC"
      },
      "execution_count": null,
      "outputs": []
    },
    {
      "cell_type": "code",
      "source": [
        "print(df.count()) # Função agregadora\n",
        "print(df.count()[\"cliente\"])"
      ],
      "metadata": {
        "colab": {
          "base_uri": "https://localhost:8080/"
        },
        "id": "lcjpD0O7X5cw",
        "outputId": "53f322ea-263b-4473-e0ca-b5247671645e"
      },
      "execution_count": 44,
      "outputs": [
        {
          "output_type": "stream",
          "name": "stdout",
          "text": [
            "cliente              117\n",
            "codigoconcessao      117\n",
            "situacaopagamento    117\n",
            "tempodeatraso        117\n",
            "situacao             117\n",
            "valorcredito         117\n",
            "perda                117\n",
            "sexo                 117\n",
            "idade                117\n",
            "renda                117\n",
            "numfilhos            117\n",
            "estadocivil          117\n",
            "regiao               117\n",
            "possuiresidencia     117\n",
            "gastoscartao         117\n",
            "dtype: int64\n",
            "117\n"
          ]
        }
      ]
    },
    {
      "cell_type": "code",
      "source": [
        "print(df[\"valorcredito\"].sum()) # Soma"
      ],
      "metadata": {
        "colab": {
          "base_uri": "https://localhost:8080/"
        },
        "id": "JcSFAsbdYFIL",
        "outputId": "c292e801-c85a-4912-fb7d-04e29568cea0"
      },
      "execution_count": 45,
      "outputs": [
        {
          "output_type": "stream",
          "name": "stdout",
          "text": [
            "382797.7\n"
          ]
        }
      ]
    },
    {
      "cell_type": "code",
      "source": [
        "print(df[\"valorcredito\"].mean()) # Média"
      ],
      "metadata": {
        "colab": {
          "base_uri": "https://localhost:8080/"
        },
        "id": "UMtoV4dLYOIg",
        "outputId": "c0b7c17a-98e6-4318-eb67-d0fab1207d70"
      },
      "execution_count": 46,
      "outputs": [
        {
          "output_type": "stream",
          "name": "stdout",
          "text": [
            "3271.7752136752138\n"
          ]
        }
      ]
    },
    {
      "cell_type": "code",
      "source": [
        "total_cliente = df[\"cliente\"].count()\n",
        "total_credito = df[\"valorcredito\"].sum()\n",
        "\n",
        "credito_medio_cliente = total_credito / total_cliente\n",
        "\n",
        "print(credito_medio_cliente) # Crédito médio por cliente"
      ],
      "metadata": {
        "colab": {
          "base_uri": "https://localhost:8080/"
        },
        "id": "QWMn4K_GYxIu",
        "outputId": "19662400-a1c0-40bf-e48c-aa8fb91c2780"
      },
      "execution_count": 47,
      "outputs": [
        {
          "output_type": "stream",
          "name": "stdout",
          "text": [
            "3271.7752136752138\n"
          ]
        }
      ]
    },
    {
      "cell_type": "code",
      "source": [
        "for i in range(len(df)): # Interando com condições e média\n",
        "  if df.iloc[i][\"valorcredito\"] > credito_medio_cliente:\n",
        "    print(\"Client :\", df.iloc[i][\"cliente\"])\n",
        "    print(\"Credit value: R$\", df.iloc[i][\"valorcredito\"])\n",
        "    print(\"***********************************\")"
      ],
      "metadata": {
        "id": "bEeR1-0XZJpT"
      },
      "execution_count": null,
      "outputs": []
    },
    {
      "cell_type": "code",
      "source": [
        "print(\"Quantidade de clientes por sexo\") # Agrupamento por sexo\n",
        "print(df[[\"sexo\",\"cliente\"]].groupby(by='sexo').count())"
      ],
      "metadata": {
        "colab": {
          "base_uri": "https://localhost:8080/"
        },
        "id": "9Iud5PTeaZZ2",
        "outputId": "fc3e0fca-3c0a-463c-8067-22729461a86f"
      },
      "execution_count": 49,
      "outputs": [
        {
          "output_type": "stream",
          "name": "stdout",
          "text": [
            "Quantidade de clientes por sexo\n",
            "           cliente\n",
            "sexo              \n",
            "feminino        45\n",
            "masculino       72\n"
          ]
        }
      ]
    },
    {
      "cell_type": "code",
      "source": [
        "print(\"Valor de crédito de por sexo\")\n",
        "df_sexo = df[[\"sexo\",\"valorcredito\"]].groupby(by='sexo').sum().reset_index()\n",
        "print(df_sexo)"
      ],
      "metadata": {
        "colab": {
          "base_uri": "https://localhost:8080/"
        },
        "id": "M81to57Vau29",
        "outputId": "8eb6a30d-87c1-4b6b-b04a-81f416e7f249"
      },
      "execution_count": 54,
      "outputs": [
        {
          "output_type": "stream",
          "name": "stdout",
          "text": [
            "Valor de crédito de por sexo\n",
            "        sexo  valorcredito\n",
            "0   feminino     155666.35\n",
            "1  masculino     227131.35\n"
          ]
        }
      ]
    },
    {
      "cell_type": "code",
      "source": [
        "import matplotlib.pyplot as plt\n",
        "\n",
        "eixo_x = df_sexo[\"sexo\"]\n",
        "eixo_y = df_sexo[\"valorcredito\"]\n",
        "plt.bar(eixo_x, eixo_y, color = [\"r\", \"b\"])\n",
        "plt.show()"
      ],
      "metadata": {
        "colab": {
          "base_uri": "https://localhost:8080/",
          "height": 430
        },
        "id": "CcMF8TWobodw",
        "outputId": "9cdb84a4-e37b-4cc3-8dd9-1a643a15a12e"
      },
      "execution_count": 56,
      "outputs": [
        {
          "output_type": "display_data",
          "data": {
            "text/plain": [
              "<Figure size 640x480 with 1 Axes>"
            ],
            "image/png": "[encoded data removed]"
          },
          "metadata": {}
        }
      ]
    }
  ]
}