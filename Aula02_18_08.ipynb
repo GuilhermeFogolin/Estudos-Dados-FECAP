{
  "nbformat": 4,
  "nbformat_minor": 0,
  "metadata": {
    "colab": {
      "provenance": [],
      "authorship_tag": "ABX9TyPL+2YfcOo9AtZtu0LWZS5d",
      "include_colab_link": true
    },
    "kernelspec": {
      "name": "python3",
      "display_name": "Python 3"
    },
    "language_info": {
      "name": "python"
    }
  },
  "cells": [
    {
      "cell_type": "markdown",
      "metadata": {
        "id": "view-in-github",
        "colab_type": "text"
      },
      "source": [
        "<a href=\"https://colab.research.google.com/github/GuilhermeFogolin/Estudos-Dados-FECAP/blob/main/Aula02_18_08.ipynb\" target=\"_parent\"><img src=\"https://colab.research.google.com/assets/colab-badge.svg\" alt=\"Open In Colab\"/></a>"
      ]
    },
    {
      "cell_type": "markdown",
      "source": [
        "# **Aula 02 - 18/08/2025 - Projeto em Ciência de Dados**\n"
      ],
      "metadata": {
        "id": "LTt4X_WwOmtQ"
      }
    },
    {
      "cell_type": "code",
      "execution_count": null,
      "metadata": {
        "colab": {
          "base_uri": "https://localhost:8080/"
        },
        "collapsed": true,
        "id": "rMgdwfUHOhKZ",
        "outputId": "d1e1dc08-9f56-4a42-cbb6-13e38d4a9daf"
      },
      "outputs": [
        {
          "output_type": "stream",
          "name": "stdout",
          "text": [
            "     cliente  codigoconcessao situacaopagamento  tempodeatraso      situacao  \\\n",
            "0          1             7616            Normal              0    Adimplente   \n",
            "1          2              281         Em atraso             95  Inadimplente   \n",
            "2          3              282            Normal              0    Adimplente   \n",
            "3          4             7889         Em atraso            106  Inadimplente   \n",
            "4          5              283            Normal              0    Adimplente   \n",
            "..       ...              ...               ...            ...           ...   \n",
            "112      113             1967            Normal              0    Adimplente   \n",
            "113      114              344            Normal              0    Adimplente   \n",
            "114      115              345            Normal              0    Adimplente   \n",
            "115      116              346            Normal              0    Adimplente   \n",
            "116      117             1825            Normal              0    Adimplente   \n",
            "\n",
            "    valorcredito    perda       sexo  idade  renda  numfilhos  estadocivil  \\\n",
            "0        3520,00     0,00  masculino     38      2          0            0   \n",
            "1        1046,85   866,80   feminino     22      2          1            1   \n",
            "2        4550,00     0,00  masculino     29      3          0            1   \n",
            "3        2625,00  2100,00   feminino     21      3          1            0   \n",
            "4        1200,00     0,00   feminino     22      1          0            1   \n",
            "..           ...      ...        ...    ...    ...        ...          ...   \n",
            "112      3599,00     0,00   feminino     21      2          0            0   \n",
            "113      4800,00     0,00   feminino     21      3          0            0   \n",
            "114      2750,00     0,00  masculino     27      3          0            1   \n",
            "115      2105,00     0,00   feminino     31      1          3            0   \n",
            "116      3150,00     0,00  masculino     22      1          1            0   \n",
            "\n",
            "    regiao  possuiresidencia gastoscartao  \n",
            "0        C                 0      1184,05  \n",
            "1        A                 0      1472,26  \n",
            "2        B                 1      1855,63  \n",
            "3        D                 0      3052,43  \n",
            "4        C                 1      3603,92  \n",
            "..     ...               ...          ...  \n",
            "112      C                 0       307,29  \n",
            "113      B                 1      1138,49  \n",
            "114      D                 1       639,46  \n",
            "115      A                 0      2903,77  \n",
            "116      D                 0      3490,99  \n",
            "\n",
            "[117 rows x 15 columns]\n"
          ]
        }
      ],
      "source": [
        "import pandas as pd\n",
        "\n",
        "df = pd.read_csv(\"BASE01.CREDITO.csv\", sep=\";\")\n",
        "\n",
        "print(df)"
      ]
    },
    {
      "cell_type": "code",
      "source": [
        "print(df[[\"codigoconcessao\", \"perda\", \"valorcredito\"]]) # Imprimindo três colunas"
      ],
      "metadata": {
        "colab": {
          "base_uri": "https://localhost:8080/"
        },
        "id": "pKENHN2xPWbg",
        "outputId": "207c3d5a-1f88-4814-daa9-6b92f64e83da"
      },
      "execution_count": null,
      "outputs": [
        {
          "output_type": "stream",
          "name": "stdout",
          "text": [
            "     codigoconcessao    perda valorcredito\n",
            "0               7616     0,00      3520,00\n",
            "1                281   866,80      1046,85\n",
            "2                282     0,00      4550,00\n",
            "3               7889  2100,00      2625,00\n",
            "4                283     0,00      1200,00\n",
            "..               ...      ...          ...\n",
            "112             1967     0,00      3599,00\n",
            "113              344     0,00      4800,00\n",
            "114              345     0,00      2750,00\n",
            "115              346     0,00      2105,00\n",
            "116             1825     0,00      3150,00\n",
            "\n",
            "[117 rows x 3 columns]\n"
          ]
        }
      ]
    },
    {
      "cell_type": "code",
      "source": [
        "print(\"Ordenando por perda decrescente\")\n",
        "print(df[[\"cliente\", \"perda\", \"valorcredito\"]].sort_values(by = \"perda\", ascending=False))"
      ],
      "metadata": {
        "id": "zJchKNWiPm8J",
        "colab": {
          "base_uri": "https://localhost:8080/"
        },
        "outputId": "ad2772ed-6608-4240-f0b0-73f522f9a618"
      },
      "execution_count": 11,
      "outputs": [
        {
          "output_type": "stream",
          "name": "stdout",
          "text": [
            "Ordenando por perda decrescente\n",
            "     cliente   perda valorcredito\n",
            "29        30  5520.0      6900,00\n",
            "40        41  4941.0      5490,00\n",
            "63        64  4160.0      5200,00\n",
            "71        72  3880.0      4850,00\n",
            "99       100  3760.0      4700,00\n",
            "..       ...     ...          ...\n",
            "112      113     0.0      3599,00\n",
            "113      114     0.0      4800,00\n",
            "114      115     0.0      2750,00\n",
            "115      116     0.0      2105,00\n",
            "116      117     0.0      3150,00\n",
            "\n",
            "[117 rows x 3 columns]\n"
          ]
        }
      ]
    },
    {
      "cell_type": "code",
      "source": [
        "df['perda'] = df['perda'].str.replace(',', '.') # Alterando tipo de coluna str para float\n",
        "df['perda'] = df['perda'].astype(float)"
      ],
      "metadata": {
        "id": "NPdvH5czQQG_"
      },
      "execution_count": 10,
      "outputs": []
    }
  ]
}