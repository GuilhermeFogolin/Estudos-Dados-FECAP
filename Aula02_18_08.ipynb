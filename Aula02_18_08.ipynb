{
  "nbformat": 4,
  "nbformat_minor": 0,
  "metadata": {
    "colab": {
      "provenance": [],
      "authorship_tag": "ABX9TyNmp3ohwldgrMuN3DYezfgb",
      "include_colab_link": true
    },
    "kernelspec": {
      "name": "python3",
      "display_name": "Python 3"
    },
    "language_info": {
      "name": "python"
    }
  },
  "cells": [
    {
      "cell_type": "markdown",
      "metadata": {
        "id": "view-in-github",
        "colab_type": "text"
      },
      "source": [
        "<a href=\"https://colab.research.google.com/github/GuilhermeFogolin/Estudos-Dados-FECAP/blob/main/Aula02_18_08.ipynb\" target=\"_parent\"><img src=\"https://colab.research.google.com/assets/colab-badge.svg\" alt=\"Open In Colab\"/></a>"
      ]
    },
    {
      "cell_type": "markdown",
      "source": [
        "# **Aula 02 - 18/08/2025 - Projeto em Ciência de Dados**\n"
      ],
      "metadata": {
        "id": "LTt4X_WwOmtQ"
      }
    },
    {
      "cell_type": "code",
      "execution_count": null,
      "metadata": {
        "collapsed": true,
        "id": "rMgdwfUHOhKZ"
      },
      "outputs": [],
      "source": [
        "import pandas as pd\n",
        "\n",
        "df = pd.read_csv(\"BASE01.CREDITO.csv\", sep=\";\")\n",
        "\n",
        "print(df)"
      ]
    },
    {
      "cell_type": "code",
      "source": [
        "print(df[[\"codigoconcessao\", \"perda\", \"valorcredito\"]]) # Imprimindo três colunas"
      ],
      "metadata": {
        "colab": {
          "base_uri": "https://localhost:8080/"
        },
        "id": "pKENHN2xPWbg",
        "outputId": "66b94cde-2253-46bf-c1db-5a76ae58f11e"
      },
      "execution_count": 19,
      "outputs": [
        {
          "output_type": "stream",
          "name": "stdout",
          "text": [
            "     codigoconcessao    perda valorcredito\n",
            "0               7616     0,00      3520,00\n",
            "1                281   866,80      1046,85\n",
            "2                282     0,00      4550,00\n",
            "3               7889  2100,00      2625,00\n",
            "4                283     0,00      1200,00\n",
            "..               ...      ...          ...\n",
            "112             1967     0,00      3599,00\n",
            "113              344     0,00      4800,00\n",
            "114              345     0,00      2750,00\n",
            "115              346     0,00      2105,00\n",
            "116             1825     0,00      3150,00\n",
            "\n",
            "[117 rows x 3 columns]\n"
          ]
        }
      ]
    },
    {
      "cell_type": "code",
      "source": [
        "# Alterando tipo de coluna str para float\n",
        "\n",
        "df['perda'] = df['perda'].str.replace(',', '.')\n",
        "df['perda'] = df['perda'].astype(float)\n",
        "\n",
        "df['valorcredito'] = df['valorcredito'].str.replace(',', '.')\n",
        "df['valorcredito'] = df['valorcredito'].astype(float)\n",
        "\n",
        "df['idade'] = df['idade'].astype(int)\n",
        "\n",
        "df['gastoscartao'] = df['gastoscartao'].str.replace(',', '.')\n",
        "df['gastoscartao'] = df['gastoscartao'].astype(float)"
      ],
      "metadata": {
        "id": "NPdvH5czQQG_"
      },
      "execution_count": 20,
      "outputs": []
    },
    {
      "cell_type": "code",
      "source": [
        "print(\"Ordenando por perda decrescente\")\n",
        "print(df[[\"cliente\", \"perda\", \"valorcredito\"]].sort_values(by = \"perda\", ascending=False))"
      ],
      "metadata": {
        "id": "zJchKNWiPm8J",
        "colab": {
          "base_uri": "https://localhost:8080/"
        },
        "outputId": "d949f232-aff2-4520-893c-cd4ccde1c391"
      },
      "execution_count": 21,
      "outputs": [
        {
          "output_type": "stream",
          "name": "stdout",
          "text": [
            "Ordenando por perda decrescente\n",
            "     cliente   perda  valorcredito\n",
            "29        30  5520.0        6900.0\n",
            "40        41  4941.0        5490.0\n",
            "63        64  4160.0        5200.0\n",
            "71        72  3880.0        4850.0\n",
            "99       100  3760.0        4700.0\n",
            "..       ...     ...           ...\n",
            "112      113     0.0        3599.0\n",
            "113      114     0.0        4800.0\n",
            "114      115     0.0        2750.0\n",
            "115      116     0.0        2105.0\n",
            "116      117     0.0        3150.0\n",
            "\n",
            "[117 rows x 3 columns]\n"
          ]
        }
      ]
    },
    {
      "cell_type": "code",
      "source": [],
      "metadata": {
        "id": "JqG1y4uSSkIQ"
      },
      "execution_count": null,
      "outputs": []
    }
  ]
}